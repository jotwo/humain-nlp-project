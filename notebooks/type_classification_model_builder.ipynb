{
  "nbformat": 4,
  "nbformat_minor": 0,
  "metadata": {
    "colab": {
      "name": "type_classification_model_builder.ipynb",
      "provenance": [],
      "collapsed_sections": []
    },
    "kernelspec": {
      "display_name": "Python 3",
      "name": "python3"
    },
    "widgets": {
      "application/vnd.jupyter.widget-state+json": {
        "c98b4110622a4754821165be3cb98970": {
          "model_module": "@jupyter-widgets/controls",
          "model_name": "HBoxModel",
          "state": {
            "_view_name": "HBoxView",
            "_dom_classes": [],
            "_model_name": "HBoxModel",
            "_view_module": "@jupyter-widgets/controls",
            "_model_module_version": "1.5.0",
            "_view_count": null,
            "_view_module_version": "1.5.0",
            "box_style": "",
            "layout": "IPY_MODEL_0082fa9741614942a294da359c7f673e",
            "_model_module": "@jupyter-widgets/controls",
            "children": [
              "IPY_MODEL_152b25f0e7fb4ed6b42eb22598fe81c9",
              "IPY_MODEL_9a60f4c6fa014ff59fda7768b2474ce3"
            ]
          }
        },
        "0082fa9741614942a294da359c7f673e": {
          "model_module": "@jupyter-widgets/base",
          "model_name": "LayoutModel",
          "state": {
            "_view_name": "LayoutView",
            "grid_template_rows": null,
            "right": null,
            "justify_content": null,
            "_view_module": "@jupyter-widgets/base",
            "overflow": null,
            "_model_module_version": "1.2.0",
            "_view_count": null,
            "flex_flow": null,
            "width": null,
            "min_width": null,
            "border": null,
            "align_items": null,
            "bottom": null,
            "_model_module": "@jupyter-widgets/base",
            "top": null,
            "grid_column": null,
            "overflow_y": null,
            "overflow_x": null,
            "grid_auto_flow": null,
            "grid_area": null,
            "grid_template_columns": null,
            "flex": null,
            "_model_name": "LayoutModel",
            "justify_items": null,
            "grid_row": null,
            "max_height": null,
            "align_content": null,
            "visibility": null,
            "align_self": null,
            "height": null,
            "min_height": null,
            "padding": null,
            "grid_auto_rows": null,
            "grid_gap": null,
            "max_width": null,
            "order": null,
            "_view_module_version": "1.2.0",
            "grid_template_areas": null,
            "object_position": null,
            "object_fit": null,
            "grid_auto_columns": null,
            "margin": null,
            "display": null,
            "left": null
          }
        },
        "152b25f0e7fb4ed6b42eb22598fe81c9": {
          "model_module": "@jupyter-widgets/controls",
          "model_name": "FloatProgressModel",
          "state": {
            "_view_name": "ProgressView",
            "style": "IPY_MODEL_3c40a338def044d38843ec022b70906b",
            "_dom_classes": [],
            "description": "Downloading: 100%",
            "_model_name": "FloatProgressModel",
            "bar_style": "success",
            "max": 433,
            "_view_module": "@jupyter-widgets/controls",
            "_model_module_version": "1.5.0",
            "value": 433,
            "_view_count": null,
            "_view_module_version": "1.5.0",
            "orientation": "horizontal",
            "min": 0,
            "description_tooltip": null,
            "_model_module": "@jupyter-widgets/controls",
            "layout": "IPY_MODEL_ceb1ec6f94c34142864393bd3b74beeb"
          }
        },
        "9a60f4c6fa014ff59fda7768b2474ce3": {
          "model_module": "@jupyter-widgets/controls",
          "model_name": "HTMLModel",
          "state": {
            "_view_name": "HTMLView",
            "style": "IPY_MODEL_b135357c789c40bdbb3bda46a2ff4da5",
            "_dom_classes": [],
            "description": "",
            "_model_name": "HTMLModel",
            "placeholder": "​",
            "_view_module": "@jupyter-widgets/controls",
            "_model_module_version": "1.5.0",
            "value": " 433/433 [00:00&lt;00:00, 583B/s]",
            "_view_count": null,
            "_view_module_version": "1.5.0",
            "description_tooltip": null,
            "_model_module": "@jupyter-widgets/controls",
            "layout": "IPY_MODEL_0ca97377485d4637baca3a4c4c947457"
          }
        },
        "3c40a338def044d38843ec022b70906b": {
          "model_module": "@jupyter-widgets/controls",
          "model_name": "ProgressStyleModel",
          "state": {
            "_view_name": "StyleView",
            "_model_name": "ProgressStyleModel",
            "description_width": "initial",
            "_view_module": "@jupyter-widgets/base",
            "_model_module_version": "1.5.0",
            "_view_count": null,
            "_view_module_version": "1.2.0",
            "bar_color": null,
            "_model_module": "@jupyter-widgets/controls"
          }
        },
        "ceb1ec6f94c34142864393bd3b74beeb": {
          "model_module": "@jupyter-widgets/base",
          "model_name": "LayoutModel",
          "state": {
            "_view_name": "LayoutView",
            "grid_template_rows": null,
            "right": null,
            "justify_content": null,
            "_view_module": "@jupyter-widgets/base",
            "overflow": null,
            "_model_module_version": "1.2.0",
            "_view_count": null,
            "flex_flow": null,
            "width": null,
            "min_width": null,
            "border": null,
            "align_items": null,
            "bottom": null,
            "_model_module": "@jupyter-widgets/base",
            "top": null,
            "grid_column": null,
            "overflow_y": null,
            "overflow_x": null,
            "grid_auto_flow": null,
            "grid_area": null,
            "grid_template_columns": null,
            "flex": null,
            "_model_name": "LayoutModel",
            "justify_items": null,
            "grid_row": null,
            "max_height": null,
            "align_content": null,
            "visibility": null,
            "align_self": null,
            "height": null,
            "min_height": null,
            "padding": null,
            "grid_auto_rows": null,
            "grid_gap": null,
            "max_width": null,
            "order": null,
            "_view_module_version": "1.2.0",
            "grid_template_areas": null,
            "object_position": null,
            "object_fit": null,
            "grid_auto_columns": null,
            "margin": null,
            "display": null,
            "left": null
          }
        },
        "b135357c789c40bdbb3bda46a2ff4da5": {
          "model_module": "@jupyter-widgets/controls",
          "model_name": "DescriptionStyleModel",
          "state": {
            "_view_name": "StyleView",
            "_model_name": "DescriptionStyleModel",
            "description_width": "",
            "_view_module": "@jupyter-widgets/base",
            "_model_module_version": "1.5.0",
            "_view_count": null,
            "_view_module_version": "1.2.0",
            "_model_module": "@jupyter-widgets/controls"
          }
        },
        "0ca97377485d4637baca3a4c4c947457": {
          "model_module": "@jupyter-widgets/base",
          "model_name": "LayoutModel",
          "state": {
            "_view_name": "LayoutView",
            "grid_template_rows": null,
            "right": null,
            "justify_content": null,
            "_view_module": "@jupyter-widgets/base",
            "overflow": null,
            "_model_module_version": "1.2.0",
            "_view_count": null,
            "flex_flow": null,
            "width": null,
            "min_width": null,
            "border": null,
            "align_items": null,
            "bottom": null,
            "_model_module": "@jupyter-widgets/base",
            "top": null,
            "grid_column": null,
            "overflow_y": null,
            "overflow_x": null,
            "grid_auto_flow": null,
            "grid_area": null,
            "grid_template_columns": null,
            "flex": null,
            "_model_name": "LayoutModel",
            "justify_items": null,
            "grid_row": null,
            "max_height": null,
            "align_content": null,
            "visibility": null,
            "align_self": null,
            "height": null,
            "min_height": null,
            "padding": null,
            "grid_auto_rows": null,
            "grid_gap": null,
            "max_width": null,
            "order": null,
            "_view_module_version": "1.2.0",
            "grid_template_areas": null,
            "object_position": null,
            "object_fit": null,
            "grid_auto_columns": null,
            "margin": null,
            "display": null,
            "left": null
          }
        },
        "582d1c5286a64a58984ffe2fc33ef080": {
          "model_module": "@jupyter-widgets/controls",
          "model_name": "HBoxModel",
          "state": {
            "_view_name": "HBoxView",
            "_dom_classes": [],
            "_model_name": "HBoxModel",
            "_view_module": "@jupyter-widgets/controls",
            "_model_module_version": "1.5.0",
            "_view_count": null,
            "_view_module_version": "1.5.0",
            "box_style": "",
            "layout": "IPY_MODEL_7457b83918bb41a3899730fa4db2421d",
            "_model_module": "@jupyter-widgets/controls",
            "children": [
              "IPY_MODEL_8f4543c0c2bb4d3aa4695fba117f7f50",
              "IPY_MODEL_15effe8a15554b119e4c94928be039be"
            ]
          }
        },
        "7457b83918bb41a3899730fa4db2421d": {
          "model_module": "@jupyter-widgets/base",
          "model_name": "LayoutModel",
          "state": {
            "_view_name": "LayoutView",
            "grid_template_rows": null,
            "right": null,
            "justify_content": null,
            "_view_module": "@jupyter-widgets/base",
            "overflow": null,
            "_model_module_version": "1.2.0",
            "_view_count": null,
            "flex_flow": null,
            "width": null,
            "min_width": null,
            "border": null,
            "align_items": null,
            "bottom": null,
            "_model_module": "@jupyter-widgets/base",
            "top": null,
            "grid_column": null,
            "overflow_y": null,
            "overflow_x": null,
            "grid_auto_flow": null,
            "grid_area": null,
            "grid_template_columns": null,
            "flex": null,
            "_model_name": "LayoutModel",
            "justify_items": null,
            "grid_row": null,
            "max_height": null,
            "align_content": null,
            "visibility": null,
            "align_self": null,
            "height": null,
            "min_height": null,
            "padding": null,
            "grid_auto_rows": null,
            "grid_gap": null,
            "max_width": null,
            "order": null,
            "_view_module_version": "1.2.0",
            "grid_template_areas": null,
            "object_position": null,
            "object_fit": null,
            "grid_auto_columns": null,
            "margin": null,
            "display": null,
            "left": null
          }
        },
        "8f4543c0c2bb4d3aa4695fba117f7f50": {
          "model_module": "@jupyter-widgets/controls",
          "model_name": "FloatProgressModel",
          "state": {
            "_view_name": "ProgressView",
            "style": "IPY_MODEL_3155a6d9584b4989a108e35820e79726",
            "_dom_classes": [],
            "description": "Downloading: 100%",
            "_model_name": "FloatProgressModel",
            "bar_style": "success",
            "max": 231508,
            "_view_module": "@jupyter-widgets/controls",
            "_model_module_version": "1.5.0",
            "value": 231508,
            "_view_count": null,
            "_view_module_version": "1.5.0",
            "orientation": "horizontal",
            "min": 0,
            "description_tooltip": null,
            "_model_module": "@jupyter-widgets/controls",
            "layout": "IPY_MODEL_65443b6823694280b862f2b46ed89542"
          }
        },
        "15effe8a15554b119e4c94928be039be": {
          "model_module": "@jupyter-widgets/controls",
          "model_name": "HTMLModel",
          "state": {
            "_view_name": "HTMLView",
            "style": "IPY_MODEL_07c4f9ae2f1a420bb53b032406fa3c40",
            "_dom_classes": [],
            "description": "",
            "_model_name": "HTMLModel",
            "placeholder": "​",
            "_view_module": "@jupyter-widgets/controls",
            "_model_module_version": "1.5.0",
            "value": " 232k/232k [00:00&lt;00:00, 795kB/s]",
            "_view_count": null,
            "_view_module_version": "1.5.0",
            "description_tooltip": null,
            "_model_module": "@jupyter-widgets/controls",
            "layout": "IPY_MODEL_62bcb23ac1994a0ca87f732dabe5769a"
          }
        },
        "3155a6d9584b4989a108e35820e79726": {
          "model_module": "@jupyter-widgets/controls",
          "model_name": "ProgressStyleModel",
          "state": {
            "_view_name": "StyleView",
            "_model_name": "ProgressStyleModel",
            "description_width": "initial",
            "_view_module": "@jupyter-widgets/base",
            "_model_module_version": "1.5.0",
            "_view_count": null,
            "_view_module_version": "1.2.0",
            "bar_color": null,
            "_model_module": "@jupyter-widgets/controls"
          }
        },
        "65443b6823694280b862f2b46ed89542": {
          "model_module": "@jupyter-widgets/base",
          "model_name": "LayoutModel",
          "state": {
            "_view_name": "LayoutView",
            "grid_template_rows": null,
            "right": null,
            "justify_content": null,
            "_view_module": "@jupyter-widgets/base",
            "overflow": null,
            "_model_module_version": "1.2.0",
            "_view_count": null,
            "flex_flow": null,
            "width": null,
            "min_width": null,
            "border": null,
            "align_items": null,
            "bottom": null,
            "_model_module": "@jupyter-widgets/base",
            "top": null,
            "grid_column": null,
            "overflow_y": null,
            "overflow_x": null,
            "grid_auto_flow": null,
            "grid_area": null,
            "grid_template_columns": null,
            "flex": null,
            "_model_name": "LayoutModel",
            "justify_items": null,
            "grid_row": null,
            "max_height": null,
            "align_content": null,
            "visibility": null,
            "align_self": null,
            "height": null,
            "min_height": null,
            "padding": null,
            "grid_auto_rows": null,
            "grid_gap": null,
            "max_width": null,
            "order": null,
            "_view_module_version": "1.2.0",
            "grid_template_areas": null,
            "object_position": null,
            "object_fit": null,
            "grid_auto_columns": null,
            "margin": null,
            "display": null,
            "left": null
          }
        },
        "07c4f9ae2f1a420bb53b032406fa3c40": {
          "model_module": "@jupyter-widgets/controls",
          "model_name": "DescriptionStyleModel",
          "state": {
            "_view_name": "StyleView",
            "_model_name": "DescriptionStyleModel",
            "description_width": "",
            "_view_module": "@jupyter-widgets/base",
            "_model_module_version": "1.5.0",
            "_view_count": null,
            "_view_module_version": "1.2.0",
            "_model_module": "@jupyter-widgets/controls"
          }
        },
        "62bcb23ac1994a0ca87f732dabe5769a": {
          "model_module": "@jupyter-widgets/base",
          "model_name": "LayoutModel",
          "state": {
            "_view_name": "LayoutView",
            "grid_template_rows": null,
            "right": null,
            "justify_content": null,
            "_view_module": "@jupyter-widgets/base",
            "overflow": null,
            "_model_module_version": "1.2.0",
            "_view_count": null,
            "flex_flow": null,
            "width": null,
            "min_width": null,
            "border": null,
            "align_items": null,
            "bottom": null,
            "_model_module": "@jupyter-widgets/base",
            "top": null,
            "grid_column": null,
            "overflow_y": null,
            "overflow_x": null,
            "grid_auto_flow": null,
            "grid_area": null,
            "grid_template_columns": null,
            "flex": null,
            "_model_name": "LayoutModel",
            "justify_items": null,
            "grid_row": null,
            "max_height": null,
            "align_content": null,
            "visibility": null,
            "align_self": null,
            "height": null,
            "min_height": null,
            "padding": null,
            "grid_auto_rows": null,
            "grid_gap": null,
            "max_width": null,
            "order": null,
            "_view_module_version": "1.2.0",
            "grid_template_areas": null,
            "object_position": null,
            "object_fit": null,
            "grid_auto_columns": null,
            "margin": null,
            "display": null,
            "left": null
          }
        }
      }
    }
  },
  "cells": [
    {
      "cell_type": "code",
      "metadata": {
        "colab": {
          "base_uri": "https://localhost:8080/"
        },
        "id": "kpjHYHt2CQ9n",
        "outputId": "c7124056-9b2c-4057-be99-1ed063c9e241"
      },
      "source": [
        "!pip install transformers\n",
        "!pip install pip install tensorflow-addons"
      ],
      "execution_count": null,
      "outputs": [
        {
          "output_type": "stream",
          "text": [
            "Requirement already satisfied: transformers in /usr/local/lib/python3.6/dist-packages (4.3.2)\n",
            "Requirement already satisfied: tqdm>=4.27 in /usr/local/lib/python3.6/dist-packages (from transformers) (4.41.1)\n",
            "Requirement already satisfied: regex!=2019.12.17 in /usr/local/lib/python3.6/dist-packages (from transformers) (2019.12.20)\n",
            "Requirement already satisfied: filelock in /usr/local/lib/python3.6/dist-packages (from transformers) (3.0.12)\n",
            "Requirement already satisfied: dataclasses; python_version < \"3.7\" in /usr/local/lib/python3.6/dist-packages (from transformers) (0.8)\n",
            "Requirement already satisfied: importlib-metadata; python_version < \"3.8\" in /usr/local/lib/python3.6/dist-packages (from transformers) (3.4.0)\n",
            "Requirement already satisfied: sacremoses in /usr/local/lib/python3.6/dist-packages (from transformers) (0.0.43)\n",
            "Requirement already satisfied: requests in /usr/local/lib/python3.6/dist-packages (from transformers) (2.23.0)\n",
            "Requirement already satisfied: numpy>=1.17 in /usr/local/lib/python3.6/dist-packages (from transformers) (1.19.5)\n",
            "Requirement already satisfied: tokenizers<0.11,>=0.10.1 in /usr/local/lib/python3.6/dist-packages (from transformers) (0.10.1)\n",
            "Requirement already satisfied: packaging in /usr/local/lib/python3.6/dist-packages (from transformers) (20.9)\n",
            "Requirement already satisfied: zipp>=0.5 in /usr/local/lib/python3.6/dist-packages (from importlib-metadata; python_version < \"3.8\"->transformers) (3.4.0)\n",
            "Requirement already satisfied: typing-extensions>=3.6.4; python_version < \"3.8\" in /usr/local/lib/python3.6/dist-packages (from importlib-metadata; python_version < \"3.8\"->transformers) (3.7.4.3)\n",
            "Requirement already satisfied: six in /usr/local/lib/python3.6/dist-packages (from sacremoses->transformers) (1.15.0)\n",
            "Requirement already satisfied: joblib in /usr/local/lib/python3.6/dist-packages (from sacremoses->transformers) (1.0.0)\n",
            "Requirement already satisfied: click in /usr/local/lib/python3.6/dist-packages (from sacremoses->transformers) (7.1.2)\n",
            "Requirement already satisfied: chardet<4,>=3.0.2 in /usr/local/lib/python3.6/dist-packages (from requests->transformers) (3.0.4)\n",
            "Requirement already satisfied: urllib3!=1.25.0,!=1.25.1,<1.26,>=1.21.1 in /usr/local/lib/python3.6/dist-packages (from requests->transformers) (1.24.3)\n",
            "Requirement already satisfied: certifi>=2017.4.17 in /usr/local/lib/python3.6/dist-packages (from requests->transformers) (2020.12.5)\n",
            "Requirement already satisfied: idna<3,>=2.5 in /usr/local/lib/python3.6/dist-packages (from requests->transformers) (2.10)\n",
            "Requirement already satisfied: pyparsing>=2.0.2 in /usr/local/lib/python3.6/dist-packages (from packaging->transformers) (2.4.7)\n",
            "Requirement already satisfied: pip in /usr/local/lib/python3.6/dist-packages (19.3.1)\n",
            "Requirement already satisfied: install in /usr/local/lib/python3.6/dist-packages (1.3.4)\n",
            "Requirement already satisfied: tensorflow-addons in /usr/local/lib/python3.6/dist-packages (0.12.1)\n",
            "Requirement already satisfied: typeguard>=2.7 in /usr/local/lib/python3.6/dist-packages (from tensorflow-addons) (2.7.1)\n"
          ],
          "name": "stdout"
        }
      ]
    },
    {
      "cell_type": "code",
      "metadata": {
        "id": "YDXMJ5Ii0gcS",
        "colab": {
          "base_uri": "https://localhost:8080/"
        },
        "outputId": "56f2f93e-ffd2-4de5-b464-a07bb0ec4ba4"
      },
      "source": [
        "from google.colab import drive\n",
        "drive.mount('/content/drive')"
      ],
      "execution_count": null,
      "outputs": [
        {
          "output_type": "stream",
          "text": [
            "Drive already mounted at /content/drive; to attempt to forcibly remount, call drive.mount(\"/content/drive\", force_remount=True).\n"
          ],
          "name": "stdout"
        }
      ]
    },
    {
      "cell_type": "code",
      "metadata": {
        "id": "5Z4oTElD1dcJ"
      },
      "source": [
        "home_folder = Path('/content/drive/MyDrive/Colab Notebooks/humain')"
      ],
      "execution_count": null,
      "outputs": []
    },
    {
      "cell_type": "code",
      "metadata": {
        "id": "U2Y43YZoA8Jj"
      },
      "source": [
        "import pandas as pd\n",
        "from pathlib import Path\n",
        "from pickle import dump, load\n",
        "from sklearn.model_selection import train_test_split\n",
        "from pickle import load, dump"
      ],
      "execution_count": null,
      "outputs": []
    },
    {
      "cell_type": "code",
      "metadata": {
        "id": "S_3pqi1WA8Jt"
      },
      "source": [
        "# check source S of use cases\n",
        "data_folder = Path('/content/drive/MyDrive/Colab Notebooks/humain/data')\n",
        "usecases_a = pd.read_excel(data_folder / 'springboard_ai_usecases.xlsx')\n",
        "usecases_a.dropna(axis=1, how='all', inplace=True)"
      ],
      "execution_count": null,
      "outputs": []
    },
    {
      "cell_type": "code",
      "metadata": {
        "colab": {
          "base_uri": "https://localhost:8080/",
          "height": 394
        },
        "id": "Be3omoD9A8Ju",
        "outputId": "11780a1f-ca33-4917-9aa8-233020ebcc1a"
      },
      "source": [
        "usecases_a.describe(include = 'all')"
      ],
      "execution_count": null,
      "outputs": [
        {
          "output_type": "execute_result",
          "data": {
            "text/html": [
              "<div>\n",
              "<style scoped>\n",
              "    .dataframe tbody tr th:only-of-type {\n",
              "        vertical-align: middle;\n",
              "    }\n",
              "\n",
              "    .dataframe tbody tr th {\n",
              "        vertical-align: top;\n",
              "    }\n",
              "\n",
              "    .dataframe thead th {\n",
              "        text-align: right;\n",
              "    }\n",
              "</style>\n",
              "<table border=\"1\" class=\"dataframe\">\n",
              "  <thead>\n",
              "    <tr style=\"text-align: right;\">\n",
              "      <th></th>\n",
              "      <th>Usecase Description</th>\n",
              "      <th>Type</th>\n",
              "      <th>Industry</th>\n",
              "      <th>Impact</th>\n",
              "      <th>Data Richness</th>\n",
              "    </tr>\n",
              "  </thead>\n",
              "  <tbody>\n",
              "    <tr>\n",
              "      <th>count</th>\n",
              "      <td>121</td>\n",
              "      <td>121</td>\n",
              "      <td>121</td>\n",
              "      <td>121.000000</td>\n",
              "      <td>121.000000</td>\n",
              "    </tr>\n",
              "    <tr>\n",
              "      <th>unique</th>\n",
              "      <td>115</td>\n",
              "      <td>9</td>\n",
              "      <td>12</td>\n",
              "      <td>NaN</td>\n",
              "      <td>NaN</td>\n",
              "    </tr>\n",
              "    <tr>\n",
              "      <th>top</th>\n",
              "      <td>Predict lifetime value and risk of churn for i...</td>\n",
              "      <td>Predictive analytics</td>\n",
              "      <td>public and social sector</td>\n",
              "      <td>NaN</td>\n",
              "      <td>NaN</td>\n",
              "    </tr>\n",
              "    <tr>\n",
              "      <th>freq</th>\n",
              "      <td>4</td>\n",
              "      <td>24</td>\n",
              "      <td>11</td>\n",
              "      <td>NaN</td>\n",
              "      <td>NaN</td>\n",
              "    </tr>\n",
              "    <tr>\n",
              "      <th>mean</th>\n",
              "      <td>NaN</td>\n",
              "      <td>NaN</td>\n",
              "      <td>NaN</td>\n",
              "      <td>0.595868</td>\n",
              "      <td>0.815702</td>\n",
              "    </tr>\n",
              "    <tr>\n",
              "      <th>std</th>\n",
              "      <td>NaN</td>\n",
              "      <td>NaN</td>\n",
              "      <td>NaN</td>\n",
              "      <td>0.399457</td>\n",
              "      <td>0.499167</td>\n",
              "    </tr>\n",
              "    <tr>\n",
              "      <th>min</th>\n",
              "      <td>NaN</td>\n",
              "      <td>NaN</td>\n",
              "      <td>NaN</td>\n",
              "      <td>0.000000</td>\n",
              "      <td>0.000000</td>\n",
              "    </tr>\n",
              "    <tr>\n",
              "      <th>25%</th>\n",
              "      <td>NaN</td>\n",
              "      <td>NaN</td>\n",
              "      <td>NaN</td>\n",
              "      <td>0.300000</td>\n",
              "      <td>0.300000</td>\n",
              "    </tr>\n",
              "    <tr>\n",
              "      <th>50%</th>\n",
              "      <td>NaN</td>\n",
              "      <td>NaN</td>\n",
              "      <td>NaN</td>\n",
              "      <td>0.500000</td>\n",
              "      <td>0.700000</td>\n",
              "    </tr>\n",
              "    <tr>\n",
              "      <th>75%</th>\n",
              "      <td>NaN</td>\n",
              "      <td>NaN</td>\n",
              "      <td>NaN</td>\n",
              "      <td>0.800000</td>\n",
              "      <td>1.300000</td>\n",
              "    </tr>\n",
              "    <tr>\n",
              "      <th>max</th>\n",
              "      <td>NaN</td>\n",
              "      <td>NaN</td>\n",
              "      <td>NaN</td>\n",
              "      <td>1.900000</td>\n",
              "      <td>2.000000</td>\n",
              "    </tr>\n",
              "  </tbody>\n",
              "</table>\n",
              "</div>"
            ],
            "text/plain": [
              "                                      Usecase Description  ... Data Richness\n",
              "count                                                 121  ...    121.000000\n",
              "unique                                                115  ...           NaN\n",
              "top     Predict lifetime value and risk of churn for i...  ...           NaN\n",
              "freq                                                    4  ...           NaN\n",
              "mean                                                  NaN  ...      0.815702\n",
              "std                                                   NaN  ...      0.499167\n",
              "min                                                   NaN  ...      0.000000\n",
              "25%                                                   NaN  ...      0.300000\n",
              "50%                                                   NaN  ...      0.700000\n",
              "75%                                                   NaN  ...      1.300000\n",
              "max                                                   NaN  ...      2.000000\n",
              "\n",
              "[11 rows x 5 columns]"
            ]
          },
          "metadata": {
            "tags": []
          },
          "execution_count": 21
        }
      ]
    },
    {
      "cell_type": "code",
      "metadata": {
        "colab": {
          "base_uri": "https://localhost:8080/",
          "height": 206
        },
        "id": "Eh79IME0A8Jx",
        "outputId": "3a857bbf-7cfa-4dc8-e515-0160b850eb2e"
      },
      "source": [
        "# inspection tells us all descriptions are example usecase sentences\n",
        "usecases_a.head()"
      ],
      "execution_count": null,
      "outputs": [
        {
          "output_type": "execute_result",
          "data": {
            "text/html": [
              "<div>\n",
              "<style scoped>\n",
              "    .dataframe tbody tr th:only-of-type {\n",
              "        vertical-align: middle;\n",
              "    }\n",
              "\n",
              "    .dataframe tbody tr th {\n",
              "        vertical-align: top;\n",
              "    }\n",
              "\n",
              "    .dataframe thead th {\n",
              "        text-align: right;\n",
              "    }\n",
              "</style>\n",
              "<table border=\"1\" class=\"dataframe\">\n",
              "  <thead>\n",
              "    <tr style=\"text-align: right;\">\n",
              "      <th></th>\n",
              "      <th>Usecase Description</th>\n",
              "      <th>Type</th>\n",
              "      <th>Industry</th>\n",
              "      <th>Impact</th>\n",
              "      <th>Data Richness</th>\n",
              "    </tr>\n",
              "  </thead>\n",
              "  <tbody>\n",
              "    <tr>\n",
              "      <th>0</th>\n",
              "      <td>Identify and navigate roads and obstructions i...</td>\n",
              "      <td>Process unstructured data</td>\n",
              "      <td>automotive</td>\n",
              "      <td>1.5</td>\n",
              "      <td>2.0</td>\n",
              "    </tr>\n",
              "    <tr>\n",
              "      <th>1</th>\n",
              "      <td>Predict failure and recommend proactive mainte...</td>\n",
              "      <td>Predictive maintenance</td>\n",
              "      <td>automotive</td>\n",
              "      <td>0.9</td>\n",
              "      <td>1.0</td>\n",
              "    </tr>\n",
              "    <tr>\n",
              "      <th>2</th>\n",
              "      <td>Optimize manufacturing process in real time— d...</td>\n",
              "      <td>Operations/logistics optimisation (real time)</td>\n",
              "      <td>automotive</td>\n",
              "      <td>0.7</td>\n",
              "      <td>1.0</td>\n",
              "    </tr>\n",
              "    <tr>\n",
              "      <th>3</th>\n",
              "      <td>Optimize lane choices and path routing based o...</td>\n",
              "      <td>Operations/logistics optimisation (real time)</td>\n",
              "      <td>automotive</td>\n",
              "      <td>0.6</td>\n",
              "      <td>1.7</td>\n",
              "    </tr>\n",
              "    <tr>\n",
              "      <th>4</th>\n",
              "      <td>Recognize complex voice commands to access gre...</td>\n",
              "      <td>Process unstructured data</td>\n",
              "      <td>automotive</td>\n",
              "      <td>0.5</td>\n",
              "      <td>0.3</td>\n",
              "    </tr>\n",
              "  </tbody>\n",
              "</table>\n",
              "</div>"
            ],
            "text/plain": [
              "                                 Usecase Description  ... Data Richness\n",
              "0  Identify and navigate roads and obstructions i...  ...           2.0\n",
              "1  Predict failure and recommend proactive mainte...  ...           1.0\n",
              "2  Optimize manufacturing process in real time— d...  ...           1.0\n",
              "3  Optimize lane choices and path routing based o...  ...           1.7\n",
              "4  Recognize complex voice commands to access gre...  ...           0.3\n",
              "\n",
              "[5 rows x 5 columns]"
            ]
          },
          "metadata": {
            "tags": []
          },
          "execution_count": 22
        }
      ]
    },
    {
      "cell_type": "code",
      "metadata": {
        "colab": {
          "base_uri": "https://localhost:8080/"
        },
        "id": "ZvNDbai5A8Jz",
        "outputId": "c5209c96-a741-4e86-a5c4-86745b3eda3e"
      },
      "source": [
        "# The size of the available dataset is going to be a limiting factor in computing\n",
        "# stable test scores. Between Type and Industry, type labels would create larger bins.\n",
        "usecases_a_types = usecases_a.Type.unique()\n",
        "usecases_a_types"
      ],
      "execution_count": null,
      "outputs": [
        {
          "output_type": "execute_result",
          "data": {
            "text/plain": [
              "array(['Process unstructured data', 'Predictive maintenance',\n",
              "       'Operations/logistics optimisation (real time)', 'Forecasting',\n",
              "       'Discover new trends/anomalies', 'Price and product optimisation',\n",
              "       'Radical personalisation', 'Predictive analytics',\n",
              "       'Resource allocation'], dtype=object)"
            ]
          },
          "metadata": {
            "tags": []
          },
          "execution_count": 23
        }
      ]
    },
    {
      "cell_type": "code",
      "metadata": {
        "colab": {
          "base_uri": "https://localhost:8080/",
          "height": 637
        },
        "id": "5GGCc0cyA8J0",
        "outputId": "54b57281-6658-4465-dea4-cadb81db878e"
      },
      "source": [
        "# load source B of use cases sentences\n",
        "usecases_b = pd.read_json(data_folder / 'case_data.json', orient= 'split')\n",
        "usecases_b.describe(include = 'all')"
      ],
      "execution_count": null,
      "outputs": [
        {
          "output_type": "stream",
          "text": [
            "/usr/local/lib/python3.6/dist-packages/ipykernel_launcher.py:3: FutureWarning: Treating datetime data as categorical rather than numeric in `.describe` is deprecated and will be removed in a future version of pandas. Specify `datetime_is_numeric=True` to silence this warning and adopt the future behavior now.\n",
            "  This is separate from the ipykernel package so we can avoid doing imports until\n",
            "/usr/local/lib/python3.6/dist-packages/ipykernel_launcher.py:3: FutureWarning: Treating datetime data as categorical rather than numeric in `.describe` is deprecated and will be removed in a future version of pandas. Specify `datetime_is_numeric=True` to silence this warning and adopt the future behavior now.\n",
            "  This is separate from the ipykernel package so we can avoid doing imports until\n"
          ],
          "name": "stderr"
        },
        {
          "output_type": "execute_result",
          "data": {
            "text/html": [
              "<div>\n",
              "<style scoped>\n",
              "    .dataframe tbody tr th:only-of-type {\n",
              "        vertical-align: middle;\n",
              "    }\n",
              "\n",
              "    .dataframe tbody tr th {\n",
              "        vertical-align: top;\n",
              "    }\n",
              "\n",
              "    .dataframe thead th {\n",
              "        text-align: right;\n",
              "    }\n",
              "</style>\n",
              "<table border=\"1\" class=\"dataframe\">\n",
              "  <thead>\n",
              "    <tr style=\"text-align: right;\">\n",
              "      <th></th>\n",
              "      <th>id</th>\n",
              "      <th>name</th>\n",
              "      <th>description</th>\n",
              "      <th>metrics</th>\n",
              "      <th>industries</th>\n",
              "      <th>created_at</th>\n",
              "      <th>updated_at</th>\n",
              "      <th>function</th>\n",
              "    </tr>\n",
              "  </thead>\n",
              "  <tbody>\n",
              "    <tr>\n",
              "      <th>count</th>\n",
              "      <td>122.000000</td>\n",
              "      <td>122</td>\n",
              "      <td>122</td>\n",
              "      <td>122</td>\n",
              "      <td>122</td>\n",
              "      <td>122</td>\n",
              "      <td>122</td>\n",
              "      <td>122</td>\n",
              "    </tr>\n",
              "    <tr>\n",
              "      <th>unique</th>\n",
              "      <td>NaN</td>\n",
              "      <td>122</td>\n",
              "      <td>122</td>\n",
              "      <td>34</td>\n",
              "      <td>53</td>\n",
              "      <td>122</td>\n",
              "      <td>122</td>\n",
              "      <td>11</td>\n",
              "    </tr>\n",
              "    <tr>\n",
              "      <th>top</th>\n",
              "      <td>NaN</td>\n",
              "      <td>Personalized medications and care</td>\n",
              "      <td>Combine your data from different sources into ...</td>\n",
              "      <td></td>\n",
              "      <td></td>\n",
              "      <td>2020-02-03 15:08:21.886000+00:00</td>\n",
              "      <td>2020-02-03 15:08:21.886000+00:00</td>\n",
              "      <td>Marketing</td>\n",
              "    </tr>\n",
              "    <tr>\n",
              "      <th>freq</th>\n",
              "      <td>NaN</td>\n",
              "      <td>1</td>\n",
              "      <td>1</td>\n",
              "      <td>35</td>\n",
              "      <td>69</td>\n",
              "      <td>1</td>\n",
              "      <td>1</td>\n",
              "      <td>25</td>\n",
              "    </tr>\n",
              "    <tr>\n",
              "      <th>first</th>\n",
              "      <td>NaN</td>\n",
              "      <td>NaN</td>\n",
              "      <td>NaN</td>\n",
              "      <td>NaN</td>\n",
              "      <td>NaN</td>\n",
              "      <td>2020-02-03 15:08:21.159000+00:00</td>\n",
              "      <td>2020-02-03 15:08:21.159000+00:00</td>\n",
              "      <td>NaN</td>\n",
              "    </tr>\n",
              "    <tr>\n",
              "      <th>last</th>\n",
              "      <td>NaN</td>\n",
              "      <td>NaN</td>\n",
              "      <td>NaN</td>\n",
              "      <td>NaN</td>\n",
              "      <td>NaN</td>\n",
              "      <td>2020-02-03 15:08:23.511000+00:00</td>\n",
              "      <td>2020-02-03 15:08:23.511000+00:00</td>\n",
              "      <td>NaN</td>\n",
              "    </tr>\n",
              "    <tr>\n",
              "      <th>mean</th>\n",
              "      <td>554.336066</td>\n",
              "      <td>NaN</td>\n",
              "      <td>NaN</td>\n",
              "      <td>NaN</td>\n",
              "      <td>NaN</td>\n",
              "      <td>NaN</td>\n",
              "      <td>NaN</td>\n",
              "      <td>NaN</td>\n",
              "    </tr>\n",
              "    <tr>\n",
              "      <th>std</th>\n",
              "      <td>35.601934</td>\n",
              "      <td>NaN</td>\n",
              "      <td>NaN</td>\n",
              "      <td>NaN</td>\n",
              "      <td>NaN</td>\n",
              "      <td>NaN</td>\n",
              "      <td>NaN</td>\n",
              "      <td>NaN</td>\n",
              "    </tr>\n",
              "    <tr>\n",
              "      <th>min</th>\n",
              "      <td>493.000000</td>\n",
              "      <td>NaN</td>\n",
              "      <td>NaN</td>\n",
              "      <td>NaN</td>\n",
              "      <td>NaN</td>\n",
              "      <td>NaN</td>\n",
              "      <td>NaN</td>\n",
              "      <td>NaN</td>\n",
              "    </tr>\n",
              "    <tr>\n",
              "      <th>25%</th>\n",
              "      <td>524.250000</td>\n",
              "      <td>NaN</td>\n",
              "      <td>NaN</td>\n",
              "      <td>NaN</td>\n",
              "      <td>NaN</td>\n",
              "      <td>NaN</td>\n",
              "      <td>NaN</td>\n",
              "      <td>NaN</td>\n",
              "    </tr>\n",
              "    <tr>\n",
              "      <th>50%</th>\n",
              "      <td>554.500000</td>\n",
              "      <td>NaN</td>\n",
              "      <td>NaN</td>\n",
              "      <td>NaN</td>\n",
              "      <td>NaN</td>\n",
              "      <td>NaN</td>\n",
              "      <td>NaN</td>\n",
              "      <td>NaN</td>\n",
              "    </tr>\n",
              "    <tr>\n",
              "      <th>75%</th>\n",
              "      <td>584.750000</td>\n",
              "      <td>NaN</td>\n",
              "      <td>NaN</td>\n",
              "      <td>NaN</td>\n",
              "      <td>NaN</td>\n",
              "      <td>NaN</td>\n",
              "      <td>NaN</td>\n",
              "      <td>NaN</td>\n",
              "    </tr>\n",
              "    <tr>\n",
              "      <th>max</th>\n",
              "      <td>615.000000</td>\n",
              "      <td>NaN</td>\n",
              "      <td>NaN</td>\n",
              "      <td>NaN</td>\n",
              "      <td>NaN</td>\n",
              "      <td>NaN</td>\n",
              "      <td>NaN</td>\n",
              "      <td>NaN</td>\n",
              "    </tr>\n",
              "  </tbody>\n",
              "</table>\n",
              "</div>"
            ],
            "text/plain": [
              "                id  ...   function\n",
              "count   122.000000  ...        122\n",
              "unique         NaN  ...         11\n",
              "top            NaN  ...  Marketing\n",
              "freq           NaN  ...         25\n",
              "first          NaN  ...        NaN\n",
              "last           NaN  ...        NaN\n",
              "mean    554.336066  ...        NaN\n",
              "std      35.601934  ...        NaN\n",
              "min     493.000000  ...        NaN\n",
              "25%     524.250000  ...        NaN\n",
              "50%     554.500000  ...        NaN\n",
              "75%     584.750000  ...        NaN\n",
              "max     615.000000  ...        NaN\n",
              "\n",
              "[13 rows x 8 columns]"
            ]
          },
          "metadata": {
            "tags": []
          },
          "execution_count": 24
        }
      ]
    },
    {
      "cell_type": "code",
      "metadata": {
        "colab": {
          "base_uri": "https://localhost:8080/",
          "height": 504
        },
        "id": "SkKT-1NtA8J1",
        "outputId": "1c424ee7-b5d3-4835-a30b-53c0124baf6b"
      },
      "source": [
        "usecases_b.head()"
      ],
      "execution_count": null,
      "outputs": [
        {
          "output_type": "execute_result",
          "data": {
            "text/html": [
              "<div>\n",
              "<style scoped>\n",
              "    .dataframe tbody tr th:only-of-type {\n",
              "        vertical-align: middle;\n",
              "    }\n",
              "\n",
              "    .dataframe tbody tr th {\n",
              "        vertical-align: top;\n",
              "    }\n",
              "\n",
              "    .dataframe thead th {\n",
              "        text-align: right;\n",
              "    }\n",
              "</style>\n",
              "<table border=\"1\" class=\"dataframe\">\n",
              "  <thead>\n",
              "    <tr style=\"text-align: right;\">\n",
              "      <th></th>\n",
              "      <th>id</th>\n",
              "      <th>name</th>\n",
              "      <th>description</th>\n",
              "      <th>metrics</th>\n",
              "      <th>industries</th>\n",
              "      <th>created_at</th>\n",
              "      <th>updated_at</th>\n",
              "      <th>function</th>\n",
              "    </tr>\n",
              "  </thead>\n",
              "  <tbody>\n",
              "    <tr>\n",
              "      <th>0</th>\n",
              "      <td>493</td>\n",
              "      <td>Retargeting</td>\n",
              "      <td>Retarget customers who have already expressed ...</td>\n",
              "      <td>Cash flow\\nReturn on marketing investment (ROMI)</td>\n",
              "      <td>Broadcasting\\nFilm Distribution\\nMedia and Ent...</td>\n",
              "      <td>2020-02-03 15:08:21.159000+00:00</td>\n",
              "      <td>2020-02-03 15:08:21.159000+00:00</td>\n",
              "      <td>Marketing</td>\n",
              "    </tr>\n",
              "    <tr>\n",
              "      <th>1</th>\n",
              "      <td>494</td>\n",
              "      <td>Recommendation engine</td>\n",
              "      <td>Also called recommendation personalization sys...</td>\n",
              "      <td>Cash flow\\nReturn on marketing investment (ROM...</td>\n",
              "      <td>Search Engine\\nRetail\\nShopping\\nE-Commerce\\nL...</td>\n",
              "      <td>2020-02-03 15:08:21.212000+00:00</td>\n",
              "      <td>2020-02-03 15:08:21.212000+00:00</td>\n",
              "      <td>Marketing</td>\n",
              "    </tr>\n",
              "    <tr>\n",
              "      <th>2</th>\n",
              "      <td>495</td>\n",
              "      <td>Social analytics &amp; automation</td>\n",
              "      <td>Leverage Natural Language Processing and machi...</td>\n",
              "      <td>Customer service effectiveness\\nNet Promoter S...</td>\n",
              "      <td>Cloud Computing\\nSoftware Solutions\\nInformati...</td>\n",
              "      <td>2020-02-03 15:08:21.249000+00:00</td>\n",
              "      <td>2020-02-03 15:08:21.249000+00:00</td>\n",
              "      <td>Marketing</td>\n",
              "    </tr>\n",
              "    <tr>\n",
              "      <th>3</th>\n",
              "      <td>496</td>\n",
              "      <td>Product Information Management</td>\n",
              "      <td>Manage and improve all your product informatio...</td>\n",
              "      <td>Return on marketing investment (ROMI)</td>\n",
              "      <td>Communications Infrastructure\\nHardware\\nEnter...</td>\n",
              "      <td>2020-02-03 15:08:21.270000+00:00</td>\n",
              "      <td>2020-02-03 15:08:21.270000+00:00</td>\n",
              "      <td>Marketing</td>\n",
              "    </tr>\n",
              "    <tr>\n",
              "      <th>4</th>\n",
              "      <td>497</td>\n",
              "      <td>Marketing analytics</td>\n",
              "      <td>Connect all your marketing data and KPIs autom...</td>\n",
              "      <td>Return on marketing investment (ROMI)</td>\n",
              "      <td>Software Solutions\\nCollaboration\\nCRM\\nData S...</td>\n",
              "      <td>2020-02-03 15:08:21.291000+00:00</td>\n",
              "      <td>2020-02-03 15:08:21.291000+00:00</td>\n",
              "      <td>Marketing</td>\n",
              "    </tr>\n",
              "  </tbody>\n",
              "</table>\n",
              "</div>"
            ],
            "text/plain": [
              "    id  ...   function\n",
              "0  493  ...  Marketing\n",
              "1  494  ...  Marketing\n",
              "2  495  ...  Marketing\n",
              "3  496  ...  Marketing\n",
              "4  497  ...  Marketing\n",
              "\n",
              "[5 rows x 8 columns]"
            ]
          },
          "metadata": {
            "tags": []
          },
          "execution_count": 25
        }
      ]
    },
    {
      "cell_type": "code",
      "metadata": {
        "colab": {
          "base_uri": "https://localhost:8080/"
        },
        "id": "DSkmdwcqA8J2",
        "outputId": "323aa7e8-6a53-465d-d9f9-bd86cd70becc"
      },
      "source": [
        "for i in range(6):\n",
        "    print(usecases_b.sample(1).description.values, '\\n')"
      ],
      "execution_count": null,
      "outputs": [
        {
          "output_type": "stream",
          "text": [
            "['Advanced analytics on call data to uncover insights to increase sales effectiveness'] \n",
            "\n",
            "['Leverage machine learning and big data to optimize your online or offline merchandising'] \n",
            "\n",
            "['Predictively maintain your robots and other machinery to minimize disruptions to operations'] \n",
            "\n",
            "['Automatically sync calendar, adressbook, emails, phone calls and messages of your salesforce to your CRM system. Enjoy better sales visibility and analytics while giving your sales personnel more sales time.'] \n",
            "\n",
            "['Analyze sound data for analytics and voice-controlled devices'] \n",
            "\n",
            "[\"Digitize your processes in weeks without replacing legacy systems which can take years. Bots can operate on legacy systems learning from your personnel's instructions and actions.\"] \n",
            "\n"
          ],
          "name": "stdout"
        }
      ]
    },
    {
      "cell_type": "code",
      "metadata": {
        "colab": {
          "base_uri": "https://localhost:8080/",
          "height": 504
        },
        "id": "6ACFTWc2A8J3",
        "outputId": "b4a83761-46d2-4d45-f1aa-713795dd4f90"
      },
      "source": [
        "# Use case sentence examples are found in the first and second sentence of the description\n",
        "# when the description consists of maximum 2 sentences\n",
        "# Eplode these first two sentences in rows\n",
        "\n",
        "usecases_b['description_sentences'] = usecases_b['description'].str.split(r'\\. ')\n",
        "usecases_b_sel = usecases_b[~(usecases_b['description_sentences'].apply(len) > 2)]\n",
        "usecases_b_sel = usecases_b_sel.explode('description_sentences')\n",
        "usecases_b_sel.head()"
      ],
      "execution_count": null,
      "outputs": [
        {
          "output_type": "execute_result",
          "data": {
            "text/html": [
              "<div>\n",
              "<style scoped>\n",
              "    .dataframe tbody tr th:only-of-type {\n",
              "        vertical-align: middle;\n",
              "    }\n",
              "\n",
              "    .dataframe tbody tr th {\n",
              "        vertical-align: top;\n",
              "    }\n",
              "\n",
              "    .dataframe thead th {\n",
              "        text-align: right;\n",
              "    }\n",
              "</style>\n",
              "<table border=\"1\" class=\"dataframe\">\n",
              "  <thead>\n",
              "    <tr style=\"text-align: right;\">\n",
              "      <th></th>\n",
              "      <th>id</th>\n",
              "      <th>name</th>\n",
              "      <th>description</th>\n",
              "      <th>metrics</th>\n",
              "      <th>industries</th>\n",
              "      <th>created_at</th>\n",
              "      <th>updated_at</th>\n",
              "      <th>function</th>\n",
              "      <th>description_sentences</th>\n",
              "    </tr>\n",
              "  </thead>\n",
              "  <tbody>\n",
              "    <tr>\n",
              "      <th>0</th>\n",
              "      <td>493</td>\n",
              "      <td>Retargeting</td>\n",
              "      <td>Retarget customers who have already expressed ...</td>\n",
              "      <td>Cash flow\\nReturn on marketing investment (ROMI)</td>\n",
              "      <td>Broadcasting\\nFilm Distribution\\nMedia and Ent...</td>\n",
              "      <td>2020-02-03 15:08:21.159000+00:00</td>\n",
              "      <td>2020-02-03 15:08:21.159000+00:00</td>\n",
              "      <td>Marketing</td>\n",
              "      <td>Retarget customers who have already expressed ...</td>\n",
              "    </tr>\n",
              "    <tr>\n",
              "      <th>1</th>\n",
              "      <td>494</td>\n",
              "      <td>Recommendation engine</td>\n",
              "      <td>Also called recommendation personalization sys...</td>\n",
              "      <td>Cash flow\\nReturn on marketing investment (ROM...</td>\n",
              "      <td>Search Engine\\nRetail\\nShopping\\nE-Commerce\\nL...</td>\n",
              "      <td>2020-02-03 15:08:21.212000+00:00</td>\n",
              "      <td>2020-02-03 15:08:21.212000+00:00</td>\n",
              "      <td>Marketing</td>\n",
              "      <td>Also called recommendation personalization sys...</td>\n",
              "    </tr>\n",
              "    <tr>\n",
              "      <th>2</th>\n",
              "      <td>495</td>\n",
              "      <td>Social analytics &amp; automation</td>\n",
              "      <td>Leverage Natural Language Processing and machi...</td>\n",
              "      <td>Customer service effectiveness\\nNet Promoter S...</td>\n",
              "      <td>Cloud Computing\\nSoftware Solutions\\nInformati...</td>\n",
              "      <td>2020-02-03 15:08:21.249000+00:00</td>\n",
              "      <td>2020-02-03 15:08:21.249000+00:00</td>\n",
              "      <td>Marketing</td>\n",
              "      <td>Leverage Natural Language Processing and machi...</td>\n",
              "    </tr>\n",
              "    <tr>\n",
              "      <th>3</th>\n",
              "      <td>496</td>\n",
              "      <td>Product Information Management</td>\n",
              "      <td>Manage and improve all your product informatio...</td>\n",
              "      <td>Return on marketing investment (ROMI)</td>\n",
              "      <td>Communications Infrastructure\\nHardware\\nEnter...</td>\n",
              "      <td>2020-02-03 15:08:21.270000+00:00</td>\n",
              "      <td>2020-02-03 15:08:21.270000+00:00</td>\n",
              "      <td>Marketing</td>\n",
              "      <td>Manage and improve all your product informatio...</td>\n",
              "    </tr>\n",
              "    <tr>\n",
              "      <th>7</th>\n",
              "      <td>500</td>\n",
              "      <td>Shelf audit/analytics</td>\n",
              "      <td>Use video, images or robots on the retail area...</td>\n",
              "      <td>B2C sales</td>\n",
              "      <td>Delivery\\nManufacturing\\nFood and Beverage\\nOu...</td>\n",
              "      <td>2020-02-03 15:08:21.360000+00:00</td>\n",
              "      <td>2020-02-03 15:08:21.360000+00:00</td>\n",
              "      <td>Marketing</td>\n",
              "      <td>Use video, images or robots on the retail area...</td>\n",
              "    </tr>\n",
              "  </tbody>\n",
              "</table>\n",
              "</div>"
            ],
            "text/plain": [
              "    id  ...                              description_sentences\n",
              "0  493  ...  Retarget customers who have already expressed ...\n",
              "1  494  ...  Also called recommendation personalization sys...\n",
              "2  495  ...  Leverage Natural Language Processing and machi...\n",
              "3  496  ...  Manage and improve all your product informatio...\n",
              "7  500  ...  Use video, images or robots on the retail area...\n",
              "\n",
              "[5 rows x 9 columns]"
            ]
          },
          "metadata": {
            "tags": []
          },
          "execution_count": 27
        }
      ]
    },
    {
      "cell_type": "code",
      "metadata": {
        "colab": {
          "base_uri": "https://localhost:8080/"
        },
        "id": "NtNMwHF9A8J3",
        "outputId": "681ab59d-8204-4f25-dde0-de5119e2ba52"
      },
      "source": [
        "# list unique 'function' labels in source B along unique 'Type' labels in source a,\n",
        "# to see if they have similar meaning\n",
        "print(usecases_a_types)\n",
        "print(usecases_b.function.unique())"
      ],
      "execution_count": null,
      "outputs": [
        {
          "output_type": "stream",
          "text": [
            "['Process unstructured data' 'Predictive maintenance'\n",
            " 'Operations/logistics optimisation (real time)' 'Forecasting'\n",
            " 'Discover new trends/anomalies' 'Price and product optimisation'\n",
            " 'Radical personalisation' 'Predictive analytics' 'Resource allocation']\n",
            "['Marketing' 'Sales' 'IT' 'Customer Service' 'Operations' 'Data'\n",
            " 'Analytics' 'Fintech' 'HR' 'Healthtech' 'Self driving cars']\n"
          ],
          "name": "stdout"
        }
      ]
    },
    {
      "cell_type": "code",
      "metadata": {
        "id": "Ag997HTWA8J5"
      },
      "source": [
        "# There looks to be no easy way to match them.\n",
        "# I decide to manually tag all source B use case sentences with 'Type' labels\n",
        "usecases_b_sel.description_sentences.to_csv(home_folder / 'case_data_usecases_unlabeled.csv')"
      ],
      "execution_count": null,
      "outputs": []
    },
    {
      "cell_type": "code",
      "metadata": {
        "colab": {
          "base_uri": "https://localhost:8080/",
          "height": 206
        },
        "id": "OrLInA2zA8J8",
        "outputId": "dc7dc3f4-2d94-42fd-c36b-b6ff1b07c899"
      },
      "source": [
        "# Load manually labeled cases from source B\n",
        "usecases_b_labeled = pd.read_csv(home_folder / 'case_data_usecases_labeled.csv',\n",
        "                                header = None)\n",
        "usecases_b_labeled.rename({0: 'Type', 1: 'Usecase Description'},\n",
        "                          axis = 1,\n",
        "                          inplace=True)\n",
        "usecases_b_labeled.head()"
      ],
      "execution_count": null,
      "outputs": [
        {
          "output_type": "execute_result",
          "data": {
            "text/html": [
              "<div>\n",
              "<style scoped>\n",
              "    .dataframe tbody tr th:only-of-type {\n",
              "        vertical-align: middle;\n",
              "    }\n",
              "\n",
              "    .dataframe tbody tr th {\n",
              "        vertical-align: top;\n",
              "    }\n",
              "\n",
              "    .dataframe thead th {\n",
              "        text-align: right;\n",
              "    }\n",
              "</style>\n",
              "<table border=\"1\" class=\"dataframe\">\n",
              "  <thead>\n",
              "    <tr style=\"text-align: right;\">\n",
              "      <th></th>\n",
              "      <th>Type</th>\n",
              "      <th>Usecase Description</th>\n",
              "    </tr>\n",
              "  </thead>\n",
              "  <tbody>\n",
              "    <tr>\n",
              "      <th>0</th>\n",
              "      <td>Radical personalisation</td>\n",
              "      <td>Retarget customers who have already expressed ...</td>\n",
              "    </tr>\n",
              "    <tr>\n",
              "      <th>1</th>\n",
              "      <td>Radical personalisation</td>\n",
              "      <td>Also called recommendation personalization sys...</td>\n",
              "    </tr>\n",
              "    <tr>\n",
              "      <th>2</th>\n",
              "      <td>Process unstructured data</td>\n",
              "      <td>Leverage Natural Language Processing and machi...</td>\n",
              "    </tr>\n",
              "    <tr>\n",
              "      <th>3</th>\n",
              "      <td>Price and product optimisation</td>\n",
              "      <td>Manage and improve all your product informatio...</td>\n",
              "    </tr>\n",
              "    <tr>\n",
              "      <th>4</th>\n",
              "      <td>Process unstructured data</td>\n",
              "      <td>Use video, images or robots on the retail area...</td>\n",
              "    </tr>\n",
              "  </tbody>\n",
              "</table>\n",
              "</div>"
            ],
            "text/plain": [
              "                             Type                                Usecase Description\n",
              "0         Radical personalisation  Retarget customers who have already expressed ...\n",
              "1         Radical personalisation  Also called recommendation personalization sys...\n",
              "2       Process unstructured data  Leverage Natural Language Processing and machi...\n",
              "3  Price and product optimisation  Manage and improve all your product informatio...\n",
              "4       Process unstructured data  Use video, images or robots on the retail area..."
            ]
          },
          "metadata": {
            "tags": []
          },
          "execution_count": 30
        }
      ]
    },
    {
      "cell_type": "code",
      "metadata": {
        "colab": {
          "base_uri": "https://localhost:8080/"
        },
        "id": "Ey9Wk8PGA8J9",
        "outputId": "76ecbf23-299c-4377-cf7b-5cb059d004e3"
      },
      "source": [
        "# concatenate with source A and check the typical lenght of use cases\n",
        "usecases = pd.concat([usecases_b_labeled, usecases_a], join='inner')\n",
        "usecases['Usecase Description'].str.len().describe()"
      ],
      "execution_count": null,
      "outputs": [
        {
          "output_type": "execute_result",
          "data": {
            "text/plain": [
              "count    228.000000\n",
              "mean      96.719298\n",
              "std       35.005351\n",
              "min       36.000000\n",
              "25%       70.000000\n",
              "50%       91.000000\n",
              "75%      117.250000\n",
              "max      219.000000\n",
              "Name: Usecase Description, dtype: float64"
            ]
          },
          "metadata": {
            "tags": []
          },
          "execution_count": 31
        }
      ]
    },
    {
      "cell_type": "code",
      "metadata": {
        "colab": {
          "base_uri": "https://localhost:8080/"
        },
        "id": "c0LiOainA8J9",
        "outputId": "b04ea5c7-6445-4df9-a13d-9ac7b9b4decb"
      },
      "source": [
        "# balance the dataset with an equal number of verified non-usecase sentences\n",
        "random_sentences = pd.read_csv(home_folder / 'random_report_text.txt',\n",
        "                               header = None,\n",
        "                              sep = r'\\. ')\n",
        "random_sentences = random_sentences.transpose()\n",
        "random_sentences.to_csv(home_folder / 'random_report_sentences_candidates.csv')\n"
      ],
      "execution_count": null,
      "outputs": [
        {
          "output_type": "stream",
          "text": [
            "/usr/local/lib/python3.6/dist-packages/ipykernel_launcher.py:5: ParserWarning: Falling back to the 'python' engine because the 'c' engine does not support regex separators (separators > 1 char and different from '\\s+' are interpreted as regex); you can avoid this warning by specifying engine='python'.\n",
            "  \"\"\"\n"
          ],
          "name": "stderr"
        }
      ]
    },
    {
      "cell_type": "code",
      "metadata": {
        "colab": {
          "base_uri": "https://localhost:8080/"
        },
        "id": "3m5WGZiVA8J_",
        "outputId": "12dd8f80-1a17-4f1a-a724-f1dddc1b0cc3"
      },
      "source": [
        "# load back the verified list of non-usecase sentences and check the typical length\n",
        "# they seem to be a bit longer but close enough to not just be able to decide based\n",
        "# on lenght alone\n",
        "report_sentences_sel = pd.read_csv(home_folder / 'random_report_sentences_selection.csv',\n",
        "                                   header = None)\n",
        "report_sentences_sel.rename({0: 'Usecase Description'},\n",
        "                            axis = 1,\n",
        "                            inplace=True)\n",
        "report_sentences_sel['Usecase Description'].str.len().describe()"
      ],
      "execution_count": null,
      "outputs": [
        {
          "output_type": "execute_result",
          "data": {
            "text/plain": [
              "count    220.000000\n",
              "mean     118.909091\n",
              "std       29.329352\n",
              "min       50.000000\n",
              "25%       99.750000\n",
              "50%      119.000000\n",
              "75%      139.000000\n",
              "max      202.000000\n",
              "Name: Usecase Description, dtype: float64"
            ]
          },
          "metadata": {
            "tags": []
          },
          "execution_count": 34
        }
      ]
    },
    {
      "cell_type": "code",
      "metadata": {
        "colab": {
          "base_uri": "https://localhost:8080/",
          "height": 206
        },
        "id": "HgUqwjz5A8J_",
        "outputId": "59cca1fa-aeec-4c72-e97d-83dc2fa7c79b"
      },
      "source": [
        "# create the dataset of usecases and no usecases\n",
        "dataset = pd.concat([usecases, report_sentences_sel])\n",
        "dataset.sample(5)"
      ],
      "execution_count": null,
      "outputs": [
        {
          "output_type": "execute_result",
          "data": {
            "text/html": [
              "<div>\n",
              "<style scoped>\n",
              "    .dataframe tbody tr th:only-of-type {\n",
              "        vertical-align: middle;\n",
              "    }\n",
              "\n",
              "    .dataframe tbody tr th {\n",
              "        vertical-align: top;\n",
              "    }\n",
              "\n",
              "    .dataframe thead th {\n",
              "        text-align: right;\n",
              "    }\n",
              "</style>\n",
              "<table border=\"1\" class=\"dataframe\">\n",
              "  <thead>\n",
              "    <tr style=\"text-align: right;\">\n",
              "      <th></th>\n",
              "      <th>Type</th>\n",
              "      <th>Usecase Description</th>\n",
              "    </tr>\n",
              "  </thead>\n",
              "  <tbody>\n",
              "    <tr>\n",
              "      <th>12</th>\n",
              "      <td>NaN</td>\n",
              "      <td>Understanding the contextual landscape around ...</td>\n",
              "    </tr>\n",
              "    <tr>\n",
              "      <th>57</th>\n",
              "      <td>NaN</td>\n",
              "      <td>Some cities have also established real-time da...</td>\n",
              "    </tr>\n",
              "    <tr>\n",
              "      <th>167</th>\n",
              "      <td>NaN</td>\n",
              "      <td>Other domains could be fertile ground for brin...</td>\n",
              "    </tr>\n",
              "    <tr>\n",
              "      <th>108</th>\n",
              "      <td>NaN</td>\n",
              "      <td>Data and analytics underpin several disruptive...</td>\n",
              "    </tr>\n",
              "    <tr>\n",
              "      <th>109</th>\n",
              "      <td>NaN</td>\n",
              "      <td>Introducing new types of data sets (“orthogona...</td>\n",
              "    </tr>\n",
              "  </tbody>\n",
              "</table>\n",
              "</div>"
            ],
            "text/plain": [
              "    Type                                Usecase Description\n",
              "12   NaN  Understanding the contextual landscape around ...\n",
              "57   NaN  Some cities have also established real-time da...\n",
              "167  NaN  Other domains could be fertile ground for brin...\n",
              "108  NaN  Data and analytics underpin several disruptive...\n",
              "109  NaN  Introducing new types of data sets (“orthogona..."
            ]
          },
          "metadata": {
            "tags": []
          },
          "execution_count": 35
        }
      ]
    },
    {
      "cell_type": "code",
      "metadata": {
        "colab": {
          "base_uri": "https://localhost:8080/"
        },
        "id": "YFI-V_xxA8KA",
        "outputId": "417d56fc-d359-4095-eaf8-0763cae8e8f6"
      },
      "source": [
        "# do some specific sentence cleaning\n",
        "\n",
        "import re\n",
        "\n",
        "def clean(sequence):\n",
        "    # remove the sequence ending punctuation because source_a doesn't have it\n",
        "    sequence = sequence.replace(r'(\\.|\\?|\\!|\\:|\\,)$', '')\n",
        "    # remove 2 or more consecutive spaces with just one\n",
        "    sequence = re.sub(\" +\", \" \", sequence)\n",
        "    # remove leading and trailing whitespaces (space and line breaks)\n",
        "    sequence = sequence.strip()\n",
        "    # convert to lowercase\n",
        "    sequence = sequence.lower()\n",
        "    # get first 256 words\n",
        "    sequence = sequence.split(maxsplit = 256)[:256] # get list of first 256 words\n",
        "    sequence = ' '.join(sequence)\n",
        "    \n",
        "    return sequence\n",
        "\n",
        "dataset['Usecase Description'] = dataset['Usecase Description'].apply(func = clean)\n",
        "for i in range(6):\n",
        "    print(dataset['Usecase Description'].sample(1).values, '\\n')"
      ],
      "execution_count": null,
      "outputs": [
        {
          "output_type": "stream",
          "text": [
            "['advanced analytics on all sales call data to uncover insights to increase sales effectiveness'] \n",
            "\n",
            "['predict risk of illicit activity or terrorism using historical crime data, intelligence data, and other available sources (e.g., predictive policing)'] \n",
            "\n",
            "['leverage natural language processing to monitor social media to make real-time business decisions'] \n",
            "\n",
            "['this has enabled basic analytics but little has been done to unlock and fully utilize the vast stores of data actually contained within emrs'] \n",
            "\n",
            "['most of the relevant regulations relate to privacy and ownership of personally identifiable information'] \n",
            "\n",
            "['but another equally vital role is that of the business translator who serves as the link between analytical talent and practical applications to business questions'] \n",
            "\n"
          ],
          "name": "stdout"
        }
      ]
    },
    {
      "cell_type": "code",
      "metadata": {
        "colab": {
          "base_uri": "https://localhost:8080/",
          "height": 206
        },
        "id": "vd2f5qGlA8KB",
        "outputId": "16887b94-a567-45ed-a961-a5d814266471"
      },
      "source": [
        "# Create codes for a use case / no use case label\n",
        "dataset['usecase'] = pd.Categorical(~dataset['Type'].isnull())\n",
        "dataset['usecase'] = dataset['usecase'].cat.codes\n",
        "dataset.sample(5)"
      ],
      "execution_count": null,
      "outputs": [
        {
          "output_type": "execute_result",
          "data": {
            "text/html": [
              "<div>\n",
              "<style scoped>\n",
              "    .dataframe tbody tr th:only-of-type {\n",
              "        vertical-align: middle;\n",
              "    }\n",
              "\n",
              "    .dataframe tbody tr th {\n",
              "        vertical-align: top;\n",
              "    }\n",
              "\n",
              "    .dataframe thead th {\n",
              "        text-align: right;\n",
              "    }\n",
              "</style>\n",
              "<table border=\"1\" class=\"dataframe\">\n",
              "  <thead>\n",
              "    <tr style=\"text-align: right;\">\n",
              "      <th></th>\n",
              "      <th>Type</th>\n",
              "      <th>Usecase Description</th>\n",
              "      <th>usecase</th>\n",
              "    </tr>\n",
              "  </thead>\n",
              "  <tbody>\n",
              "    <tr>\n",
              "      <th>21</th>\n",
              "      <td>Radical personalisation</td>\n",
              "      <td>personalize product recommendations and advert...</td>\n",
              "      <td>1</td>\n",
              "    </tr>\n",
              "    <tr>\n",
              "      <th>32</th>\n",
              "      <td>Resource allocation</td>\n",
              "      <td>use bots on your retail floor to answer custom...</td>\n",
              "      <td>1</td>\n",
              "    </tr>\n",
              "    <tr>\n",
              "      <th>130</th>\n",
              "      <td>NaN</td>\n",
              "      <td>our 2011 report analyzed how the european unio...</td>\n",
              "      <td>0</td>\n",
              "    </tr>\n",
              "    <tr>\n",
              "      <th>67</th>\n",
              "      <td>Predictive analytics</td>\n",
              "      <td>evaluate doctor performance and provide outcom...</td>\n",
              "      <td>1</td>\n",
              "    </tr>\n",
              "    <tr>\n",
              "      <th>81</th>\n",
              "      <td>Operations/logistics optimisation (real time)</td>\n",
              "      <td>put in place control mechanisms that detect an...</td>\n",
              "      <td>1</td>\n",
              "    </tr>\n",
              "  </tbody>\n",
              "</table>\n",
              "</div>"
            ],
            "text/plain": [
              "                                              Type  ... usecase\n",
              "21                         Radical personalisation  ...       1\n",
              "32                             Resource allocation  ...       1\n",
              "130                                            NaN  ...       0\n",
              "67                            Predictive analytics  ...       1\n",
              "81   Operations/logistics optimisation (real time)  ...       1\n",
              "\n",
              "[5 rows x 3 columns]"
            ]
          },
          "metadata": {
            "tags": []
          },
          "execution_count": 37
        }
      ]
    },
    {
      "cell_type": "code",
      "metadata": {
        "colab": {
          "base_uri": "https://localhost:8080/",
          "height": 245
        },
        "id": "YmKWV-BqA8KC",
        "outputId": "c6f37580-1520-44bc-c949-f788fac94065"
      },
      "source": [
        "# Create codes for a type label\n",
        "dataset['Type'] = dataset['Type'].fillna('no use case')\n",
        "dataset['Type_cat'] = pd.Categorical(dataset['Type'])\n",
        "dataset['type'] = dataset['Type_cat'].cat.codes\n",
        "\n",
        "pickle_folder = Path(home_folder / 'pickle')\n",
        "\n",
        "d = dict(enumerate(dataset['Type_cat'].cat.categories))\n",
        "print(d)\n",
        "\n",
        "with open(pickle_folder / 'type_dictionary.pkl','wb') as f:\n",
        "  dump(d, f)\n",
        "dataset.head(5)"
      ],
      "execution_count": null,
      "outputs": [
        {
          "output_type": "stream",
          "text": [
            "{0: 'Discover new trends/anomalies', 1: 'Forecasting', 2: 'Operations/logistics optimisation (real time)', 3: 'Predictive analytics', 4: 'Predictive maintenance', 5: 'Price and product optimisation', 6: 'Process unstructured data', 7: 'Radical personalisation', 8: 'Resource allocation', 9: 'no use case'}\n"
          ],
          "name": "stdout"
        },
        {
          "output_type": "execute_result",
          "data": {
            "text/html": [
              "<div>\n",
              "<style scoped>\n",
              "    .dataframe tbody tr th:only-of-type {\n",
              "        vertical-align: middle;\n",
              "    }\n",
              "\n",
              "    .dataframe tbody tr th {\n",
              "        vertical-align: top;\n",
              "    }\n",
              "\n",
              "    .dataframe thead th {\n",
              "        text-align: right;\n",
              "    }\n",
              "</style>\n",
              "<table border=\"1\" class=\"dataframe\">\n",
              "  <thead>\n",
              "    <tr style=\"text-align: right;\">\n",
              "      <th></th>\n",
              "      <th>Type</th>\n",
              "      <th>Usecase Description</th>\n",
              "      <th>usecase</th>\n",
              "      <th>Type_cat</th>\n",
              "      <th>type</th>\n",
              "    </tr>\n",
              "  </thead>\n",
              "  <tbody>\n",
              "    <tr>\n",
              "      <th>0</th>\n",
              "      <td>Radical personalisation</td>\n",
              "      <td>retarget customers who have already expressed ...</td>\n",
              "      <td>1</td>\n",
              "      <td>Radical personalisation</td>\n",
              "      <td>7</td>\n",
              "    </tr>\n",
              "    <tr>\n",
              "      <th>1</th>\n",
              "      <td>Radical personalisation</td>\n",
              "      <td>also called recommendation personalization sys...</td>\n",
              "      <td>1</td>\n",
              "      <td>Radical personalisation</td>\n",
              "      <td>7</td>\n",
              "    </tr>\n",
              "    <tr>\n",
              "      <th>2</th>\n",
              "      <td>Process unstructured data</td>\n",
              "      <td>leverage natural language processing and machi...</td>\n",
              "      <td>1</td>\n",
              "      <td>Process unstructured data</td>\n",
              "      <td>6</td>\n",
              "    </tr>\n",
              "    <tr>\n",
              "      <th>3</th>\n",
              "      <td>Price and product optimisation</td>\n",
              "      <td>manage and improve all your product informatio...</td>\n",
              "      <td>1</td>\n",
              "      <td>Price and product optimisation</td>\n",
              "      <td>5</td>\n",
              "    </tr>\n",
              "    <tr>\n",
              "      <th>4</th>\n",
              "      <td>Process unstructured data</td>\n",
              "      <td>use video, images or robots on the retail area...</td>\n",
              "      <td>1</td>\n",
              "      <td>Process unstructured data</td>\n",
              "      <td>6</td>\n",
              "    </tr>\n",
              "  </tbody>\n",
              "</table>\n",
              "</div>"
            ],
            "text/plain": [
              "                             Type  ... type\n",
              "0         Radical personalisation  ...    7\n",
              "1         Radical personalisation  ...    7\n",
              "2       Process unstructured data  ...    6\n",
              "3  Price and product optimisation  ...    5\n",
              "4       Process unstructured data  ...    6\n",
              "\n",
              "[5 rows x 5 columns]"
            ]
          },
          "metadata": {
            "tags": []
          },
          "execution_count": 38
        }
      ]
    },
    {
      "cell_type": "code",
      "metadata": {
        "colab": {
          "base_uri": "https://localhost:8080/"
        },
        "id": "0FcbE1ESA8KC",
        "outputId": "24a8e483-b3bf-4c43-b0fd-a33682e89779"
      },
      "source": [
        "# See the distribution of labels\n",
        "dataset[['Type', 'usecase']].groupby(['usecase', 'Type']).size()"
      ],
      "execution_count": null,
      "outputs": [
        {
          "output_type": "execute_result",
          "data": {
            "text/plain": [
              "usecase  Type                                         \n",
              "0        no use case                                      220\n",
              "1        Discover new trends/anomalies                     12\n",
              "         Forecasting                                       18\n",
              "         Operations/logistics optimisation (real time)     21\n",
              "         Predictive analytics                              55\n",
              "         Predictive maintenance                            10\n",
              "         Price and product optimisation                    22\n",
              "         Process unstructured data                         46\n",
              "         Radical personalisation                           20\n",
              "         Resource allocation                               24\n",
              "dtype: int64"
            ]
          },
          "metadata": {
            "tags": []
          },
          "execution_count": 39
        }
      ]
    },
    {
      "cell_type": "code",
      "metadata": {
        "colab": {
          "base_uri": "https://localhost:8080/"
        },
        "id": "SWQnbubTA8KD",
        "outputId": "275e4a6a-d8a1-4321-a264-44d21e1f644c"
      },
      "source": [
        "# split the dataset in train and validation\n",
        "from sklearn.model_selection import train_test_split\n",
        "\n",
        "train, val = train_test_split(dataset[['Usecase Description', 'usecase', 'type']],\n",
        "                              test_size = 0.2,\n",
        "                              stratify = dataset['type'])\n",
        "\n",
        "print('train type:', type(train))\n",
        "print('train shape:', train.shape)\n",
        "\n",
        "print('val type:', type(val))\n",
        "print('val shape:', val.shape)"
      ],
      "execution_count": null,
      "outputs": [
        {
          "output_type": "stream",
          "text": [
            "train type: <class 'pandas.core.frame.DataFrame'>\n",
            "train shape: (358, 3)\n",
            "val type: <class 'pandas.core.frame.DataFrame'>\n",
            "val shape: (90, 3)\n"
          ],
          "name": "stdout"
        }
      ]
    },
    {
      "cell_type": "code",
      "metadata": {
        "colab": {
          "base_uri": "https://localhost:8080/",
          "height": 118,
          "referenced_widgets": [
            "c98b4110622a4754821165be3cb98970",
            "0082fa9741614942a294da359c7f673e",
            "152b25f0e7fb4ed6b42eb22598fe81c9",
            "9a60f4c6fa014ff59fda7768b2474ce3",
            "3c40a338def044d38843ec022b70906b",
            "ceb1ec6f94c34142864393bd3b74beeb",
            "b135357c789c40bdbb3bda46a2ff4da5",
            "0ca97377485d4637baca3a4c4c947457",
            "582d1c5286a64a58984ffe2fc33ef080",
            "7457b83918bb41a3899730fa4db2421d",
            "8f4543c0c2bb4d3aa4695fba117f7f50",
            "15effe8a15554b119e4c94928be039be",
            "3155a6d9584b4989a108e35820e79726",
            "65443b6823694280b862f2b46ed89542",
            "07c4f9ae2f1a420bb53b032406fa3c40",
            "62bcb23ac1994a0ca87f732dabe5769a"
          ]
        },
        "id": "1PnNf9wDA8KD",
        "outputId": "855f9ca4-c740-457c-8323-0d210798c71b"
      },
      "source": [
        "# load the tokenizer\n",
        "from transformers import BertTokenizer, BertConfig\n",
        "\n",
        "config = BertConfig.from_pretrained('bert-base-uncased')\n",
        "config.output_hidden_states = False\n",
        "tokenizer = BertTokenizer.from_pretrained('bert-base-uncased', config = config)"
      ],
      "execution_count": null,
      "outputs": [
        {
          "output_type": "display_data",
          "data": {
            "application/vnd.jupyter.widget-view+json": {
              "model_id": "c98b4110622a4754821165be3cb98970",
              "version_minor": 0,
              "version_major": 2
            },
            "text/plain": [
              "HBox(children=(FloatProgress(value=0.0, description='Downloading', max=433.0, style=ProgressStyle(description_…"
            ]
          },
          "metadata": {
            "tags": []
          }
        },
        {
          "output_type": "stream",
          "text": [
            "\n"
          ],
          "name": "stdout"
        },
        {
          "output_type": "display_data",
          "data": {
            "application/vnd.jupyter.widget-view+json": {
              "model_id": "582d1c5286a64a58984ffe2fc33ef080",
              "version_minor": 0,
              "version_major": 2
            },
            "text/plain": [
              "HBox(children=(FloatProgress(value=0.0, description='Downloading', max=231508.0, style=ProgressStyle(descripti…"
            ]
          },
          "metadata": {
            "tags": []
          }
        },
        {
          "output_type": "stream",
          "text": [
            "\n"
          ],
          "name": "stdout"
        }
      ]
    },
    {
      "cell_type": "code",
      "metadata": {
        "colab": {
          "base_uri": "https://localhost:8080/"
        },
        "id": "y5LCNMvNA8KD",
        "outputId": "e44558ef-3857-4e05-e5dd-27b8952a05ad"
      },
      "source": [
        "# tokenize the sentences\n",
        "# we don't truncate any sentence in the dataset by selecting max_length 40\n",
        "max_length = 40\n",
        "\n",
        "encoded_data_train = tokenizer(list(train['Usecase Description']),\n",
        "                               max_length = max_length,\n",
        "                               truncation = True,\n",
        "                               add_special_tokens = True,\n",
        "                               return_tensors = 'tf',\n",
        "                               padding = 'max_length',\n",
        "                               return_attention_mask = True,\n",
        "                               return_token_type_ids = False,\n",
        "                               verbose = True)\n",
        "\n",
        "encoded_data_val = tokenizer(list(val['Usecase Description']),\n",
        "                               max_length = max_length,\n",
        "                               truncation = True,\n",
        "                               add_special_tokens = True,\n",
        "                               return_tensors = 'tf',\n",
        "                               padding = 'max_length',\n",
        "                               return_attention_mask = True,\n",
        "                               return_token_type_ids = False,\n",
        "                               verbose = True)\n",
        "\n",
        "print(encoded_data_train)\n",
        "print(encoded_data_val)"
      ],
      "execution_count": null,
      "outputs": [
        {
          "output_type": "stream",
          "text": [
            "{'input_ids': <tf.Tensor: shape=(358, 40), dtype=int32, numpy=\n",
            "array([[  101,  2023,  9575, ...,     0,     0,     0],\n",
            "       [  101,  3935,  2966, ...,     0,     0,     0],\n",
            "       [  101,  4283,  2000, ...,     0,     0,     0],\n",
            "       ...,\n",
            "       [  101,  6133,  1998, ...,     0,     0,     0],\n",
            "       [  101, 16014,  4945, ...,     0,     0,     0],\n",
            "       [  101, 23569, 27605, ...,     0,     0,     0]], dtype=int32)>, 'attention_mask': <tf.Tensor: shape=(358, 40), dtype=int32, numpy=\n",
            "array([[1, 1, 1, ..., 0, 0, 0],\n",
            "       [1, 1, 1, ..., 0, 0, 0],\n",
            "       [1, 1, 1, ..., 0, 0, 0],\n",
            "       ...,\n",
            "       [1, 1, 1, ..., 0, 0, 0],\n",
            "       [1, 1, 1, ..., 0, 0, 0],\n",
            "       [1, 1, 1, ..., 0, 0, 0]], dtype=int32)>}\n",
            "{'input_ids': <tf.Tensor: shape=(90, 40), dtype=int32, numpy=\n",
            "array([[  101,  8073, 26351, ...,     0,     0,     0],\n",
            "       [  101,  2224,  7976, ...,     0,     0,     0],\n",
            "       [  101,  1996,  3643, ...,     0,     0,     0],\n",
            "       ...,\n",
            "       [  101, 23569, 27605, ...,     0,     0,     0],\n",
            "       [  101, 21155,  3019, ...,     0,     0,     0],\n",
            "       [  101,  2062,  2084, ...,     0,     0,     0]], dtype=int32)>, 'attention_mask': <tf.Tensor: shape=(90, 40), dtype=int32, numpy=\n",
            "array([[1, 1, 1, ..., 0, 0, 0],\n",
            "       [1, 1, 1, ..., 0, 0, 0],\n",
            "       [1, 1, 1, ..., 0, 0, 0],\n",
            "       ...,\n",
            "       [1, 1, 1, ..., 0, 0, 0],\n",
            "       [1, 1, 1, ..., 0, 0, 0],\n",
            "       [1, 1, 1, ..., 0, 0, 0]], dtype=int32)>}\n"
          ],
          "name": "stdout"
        }
      ]
    },
    {
      "cell_type": "code",
      "metadata": {
        "colab": {
          "base_uri": "https://localhost:8080/"
        },
        "id": "R7ke0tfbA8KE",
        "outputId": "32d23a7d-224c-43b6-a494-b013f66b4c20"
      },
      "source": [
        "# one-hot label creation for type\n",
        "from tensorflow.keras.utils import to_categorical\n",
        "\n",
        "type_vec_train = to_categorical(train['type'])\n",
        "print(type_vec_train[0])\n",
        "print(type_vec_train.shape)\n",
        "\n",
        "type_vec_val = to_categorical(val['type'])\n",
        "print(type_vec_val[0])\n",
        "print(type_vec_val.shape)"
      ],
      "execution_count": null,
      "outputs": [
        {
          "output_type": "stream",
          "text": [
            "[0. 0. 0. 0. 0. 0. 0. 0. 0. 1.]\n",
            "(358, 10)\n",
            "[0. 0. 0. 0. 0. 0. 1. 0. 0. 0.]\n",
            "(90, 10)\n"
          ],
          "name": "stdout"
        }
      ]
    },
    {
      "cell_type": "code",
      "metadata": {
        "colab": {
          "base_uri": "https://localhost:8080/",
          "height": 331
        },
        "id": "gRa6ehlyA8KF",
        "outputId": "4a19cba0-624c-419b-c72f-826e7502c0bb"
      },
      "source": [
        "# load a BERT model\n",
        "\n",
        "from transformers import TFBertModel\n",
        "\n",
        "model = TFBertModel.from_pretrained('bert-base-uncased', config = config)\n",
        "display(model.summary())"
      ],
      "execution_count": null,
      "outputs": [
        {
          "output_type": "stream",
          "text": [
            "Some layers from the model checkpoint at bert-base-uncased were not used when initializing TFBertModel: ['nsp___cls', 'mlm___cls']\n",
            "- This IS expected if you are initializing TFBertModel from the checkpoint of a model trained on another task or with another architecture (e.g. initializing a BertForSequenceClassification model from a BertForPreTraining model).\n",
            "- This IS NOT expected if you are initializing TFBertModel from the checkpoint of a model that you expect to be exactly identical (initializing a BertForSequenceClassification model from a BertForSequenceClassification model).\n",
            "All the layers of TFBertModel were initialized from the model checkpoint at bert-base-uncased.\n",
            "If your task is similar to the task the model of the checkpoint was trained on, you can already use TFBertModel for predictions without further training.\n"
          ],
          "name": "stderr"
        },
        {
          "output_type": "stream",
          "text": [
            "Model: \"tf_bert_model_1\"\n",
            "_________________________________________________________________\n",
            "Layer (type)                 Output Shape              Param #   \n",
            "=================================================================\n",
            "bert (TFBertMainLayer)       multiple                  109482240 \n",
            "=================================================================\n",
            "Total params: 109,482,240\n",
            "Trainable params: 109,482,240\n",
            "Non-trainable params: 0\n",
            "_________________________________________________________________\n"
          ],
          "name": "stdout"
        },
        {
          "output_type": "display_data",
          "data": {
            "text/plain": [
              "None"
            ]
          },
          "metadata": {
            "tags": []
          }
        }
      ]
    },
    {
      "cell_type": "code",
      "metadata": {
        "colab": {
          "base_uri": "https://localhost:8080/"
        },
        "id": "ASfYOUS5A8KF",
        "outputId": "eaf4e441-a4ae-4292-8b8d-3f019f7f3cec"
      },
      "source": [
        "# Adapt the model for multiclass and multilabel classification\n",
        "\n",
        "from tensorflow.keras.layers import Input, Dropout, Dense\n",
        "from tensorflow.keras.models import Model\n",
        "from tensorflow.keras.initializers import TruncatedNormal\n",
        "\n",
        "#######################################   \n",
        "### ------- Build the model ------- ###\n",
        "# TF Keras documentation: https://www.tensorflow.org/api_docs/python/tf/keras/Model# Load the MainLayer   \n",
        "bert = model.layers[0]\n",
        "# Build your model input   \n",
        "input_ids = Input(shape=(max_length,), name='input_ids', dtype='int32')\n",
        "attention_mask = Input(shape=(max_length,), name='attention_mask', dtype='int32')\n",
        "inputs = {'input_ids': input_ids, 'attention_mask': attention_mask}\n",
        "# Load the Transformers BERT model as a layer in a Keras model   \n",
        "bert_model = bert(inputs)[1]\n",
        "dropout = Dropout(config.hidden_dropout_prob, name='pooled_output')   \n",
        "pooled_output = dropout(bert_model, training=False)\n",
        "# Then build your model output   \n",
        "usecase = Dense(units=1, kernel_initializer=TruncatedNormal(stddev=config.initializer_range), name='usecase')(pooled_output)\n",
        "type_ = Dense(units=len(dataset.type.value_counts()), kernel_initializer=TruncatedNormal(stddev=config.initializer_range), name='type')(pooled_output)\n",
        "outputs = {'usecase': usecase, 'type': type_}\n",
        "# And combine it all in a model object   \n",
        "model = Model(inputs=inputs, outputs=outputs, name='BERT_MultiClass_MultiLabel')\n",
        "# Take a look at the model   \n",
        "model.summary()"
      ],
      "execution_count": null,
      "outputs": [
        {
          "output_type": "stream",
          "text": [
            "Model: \"BERT_MultiClass_MultiLabel\"\n",
            "__________________________________________________________________________________________________\n",
            "Layer (type)                    Output Shape         Param #     Connected to                     \n",
            "==================================================================================================\n",
            "attention_mask (InputLayer)     [(None, 40)]         0                                            \n",
            "__________________________________________________________________________________________________\n",
            "input_ids (InputLayer)          [(None, 40)]         0                                            \n",
            "__________________________________________________________________________________________________\n",
            "bert (TFBertMainLayer)          TFBaseModelOutputWit 109482240   attention_mask[0][0]             \n",
            "                                                                 input_ids[0][0]                  \n",
            "__________________________________________________________________________________________________\n",
            "pooled_output (Dropout)         (None, 768)          0           bert[0][1]                       \n",
            "__________________________________________________________________________________________________\n",
            "type (Dense)                    (None, 10)           7690        pooled_output[0][0]              \n",
            "__________________________________________________________________________________________________\n",
            "usecase (Dense)                 (None, 1)            769         pooled_output[0][0]              \n",
            "==================================================================================================\n",
            "Total params: 109,490,699\n",
            "Trainable params: 109,490,699\n",
            "Non-trainable params: 0\n",
            "__________________________________________________________________________________________________\n"
          ],
          "name": "stdout"
        }
      ]
    },
    {
      "cell_type": "code",
      "metadata": {
        "colab": {
          "base_uri": "https://localhost:8080/"
        },
        "id": "DEl2gGN8A8KF",
        "outputId": "8955d554-527d-485e-fd6a-44aa0fc484b4"
      },
      "source": [
        "from tensorflow.keras.optimizers import Adam\n",
        "from tensorflow.keras.callbacks import EarlyStopping\n",
        "from tensorflow.keras.losses import CategoricalCrossentropy, BinaryCrossentropy\n",
        "from tensorflow.keras.metrics import CategoricalAccuracy\n",
        "import tensorflow_addons as tfa\n",
        "\n",
        "batch_size = 64\n",
        "\n",
        "#######################################\n",
        "### ------- Train the model ------- ###\n",
        "# Set an optimizer\n",
        "optimizer = Adam(   \n",
        "    learning_rate=1e-05,   \n",
        "    epsilon=1e-08,   \n",
        "    decay=0.01,   \n",
        "    clipnorm=1.0)\n",
        "# Set loss and metrics\n",
        "loss = {'usecase': BinaryCrossentropy(from_logits = True),\n",
        "        'type': CategoricalCrossentropy(from_logits = True)}\n",
        "metric = {'usecase': ['accuracy',\n",
        "                      tfa.metrics.F1Score(num_classes = 1,\n",
        "                                          threshold = 0.5,\n",
        "                                          average = 'macro')],\n",
        "          'type': [CategoricalAccuracy('accuracy'),\n",
        "                   tfa.metrics.F1Score(num_classes = 10, average = 'weighted')]}\n",
        "# metric = {'usecase': ['accuracy'],\n",
        "#           'type': [CategoricalAccuracy('accuracy')]}\n",
        "# Compile the model\n",
        "model.compile(\n",
        "    optimizer = optimizer,\n",
        "    loss = loss,\n",
        "    metrics = metric)\n",
        "# Ready output data for the model\n",
        "y_usecase = train.usecase.to_numpy()\n",
        "y_type = type_vec_train\n",
        "# Tokenize the input (takes some time)\n",
        "x = encoded_data_train\n",
        "# Fit the model\n",
        "history = model.fit(   \n",
        "    x={'input_ids': x['input_ids'], 'attention_mask': x['attention_mask']},   \n",
        "    y={'usecase': y_usecase, 'type': y_type},\n",
        "    batch_size=batch_size,\n",
        "    epochs=10)"
      ],
      "execution_count": null,
      "outputs": [
        {
          "output_type": "stream",
          "text": [
            "Epoch 1/10\n",
            "6/6 [==============================] - 26s 859ms/step - loss: 0.6549 - type_loss: 0.5977 - usecase_loss: 0.0572 - type_accuracy: 0.8978 - type_f1_score: 0.8738 - usecase_accuracy: 1.0000 - usecase_f1_score: 1.0000\n",
            "Epoch 2/10\n",
            "6/6 [==============================] - 5s 845ms/step - loss: 0.6261 - type_loss: 0.5627 - usecase_loss: 0.0634 - type_accuracy: 0.8701 - type_f1_score: 0.8428 - usecase_accuracy: 1.0000 - usecase_f1_score: 1.0000\n",
            "Epoch 3/10\n",
            "6/6 [==============================] - 5s 851ms/step - loss: 0.6356 - type_loss: 0.5807 - usecase_loss: 0.0549 - type_accuracy: 0.8778 - type_f1_score: 0.8440 - usecase_accuracy: 1.0000 - usecase_f1_score: 1.0000\n",
            "Epoch 4/10\n",
            "6/6 [==============================] - 5s 848ms/step - loss: 0.5981 - type_loss: 0.5429 - usecase_loss: 0.0552 - type_accuracy: 0.9121 - type_f1_score: 0.8883 - usecase_accuracy: 1.0000 - usecase_f1_score: 1.0000\n",
            "Epoch 5/10\n",
            "6/6 [==============================] - 5s 850ms/step - loss: 0.5533 - type_loss: 0.5010 - usecase_loss: 0.0524 - type_accuracy: 0.9223 - type_f1_score: 0.9062 - usecase_accuracy: 1.0000 - usecase_f1_score: 1.0000\n",
            "Epoch 6/10\n",
            "6/6 [==============================] - 5s 850ms/step - loss: 0.5522 - type_loss: 0.5008 - usecase_loss: 0.0514 - type_accuracy: 0.9251 - type_f1_score: 0.9099 - usecase_accuracy: 1.0000 - usecase_f1_score: 1.0000\n",
            "Epoch 7/10\n",
            "6/6 [==============================] - 5s 852ms/step - loss: 0.5211 - type_loss: 0.4674 - usecase_loss: 0.0537 - type_accuracy: 0.9408 - type_f1_score: 0.9293 - usecase_accuracy: 1.0000 - usecase_f1_score: 1.0000\n",
            "Epoch 8/10\n",
            "6/6 [==============================] - 5s 852ms/step - loss: 0.4989 - type_loss: 0.4489 - usecase_loss: 0.0500 - type_accuracy: 0.9343 - type_f1_score: 0.9241 - usecase_accuracy: 1.0000 - usecase_f1_score: 1.0000\n",
            "Epoch 9/10\n",
            "6/6 [==============================] - 5s 855ms/step - loss: 0.4852 - type_loss: 0.4328 - usecase_loss: 0.0524 - type_accuracy: 0.9445 - type_f1_score: 0.9359 - usecase_accuracy: 1.0000 - usecase_f1_score: 1.0000\n",
            "Epoch 10/10\n",
            "6/6 [==============================] - 5s 855ms/step - loss: 0.4728 - type_loss: 0.4235 - usecase_loss: 0.0493 - type_accuracy: 0.9544 - type_f1_score: 0.9490 - usecase_accuracy: 1.0000 - usecase_f1_score: 1.0000\n"
          ],
          "name": "stdout"
        }
      ]
    },
    {
      "cell_type": "code",
      "metadata": {
        "colab": {
          "base_uri": "https://localhost:8080/"
        },
        "id": "UzTG2VXEDknM",
        "outputId": "9a817b3d-3b75-469a-f10b-8e240b1aad7c"
      },
      "source": [
        "# It only requires light training to get good accuracy of usecase/no usecase\n",
        "####################################### \n",
        "### ----- Evaluate the model ------ ###\n",
        "# Ready test data   \n",
        "val_y_usecase = val.usecase.to_numpy()\n",
        "val_y_type = type_vec_val\n",
        "val_x = encoded_data_val\n",
        "# Run evaluation   \n",
        "model_eval = model.evaluate(   \n",
        "    x={'input_ids': val_x['input_ids'], 'attention_mask': val_x['attention_mask']},   \n",
        "    y={'usecase': val_y_usecase, 'type': val_y_type},\n",
        "    verbose = 2\n",
        ")"
      ],
      "execution_count": null,
      "outputs": [
        {
          "output_type": "stream",
          "text": [
            "3/3 - 1s - loss: 0.9102 - type_loss: 0.7760 - usecase_loss: 0.1342 - type_accuracy: 0.8000 - type_f1_score: 0.5999 - usecase_accuracy: 0.9667 - usecase_f1_score: 0.9663\n"
          ],
          "name": "stdout"
        }
      ]
    },
    {
      "cell_type": "code",
      "metadata": {
        "colab": {
          "base_uri": "https://localhost:8080/"
        },
        "id": "O39Iyv4oOLnz",
        "outputId": "09184eba-b38c-4e64-a432-f60055eeda24"
      },
      "source": [
        "# After ~70 epochs these results still look good only for the usecase (anything besides 9)\n",
        "# or no usecase (9) decision. But in reality we found the results of the lightly trained\n",
        "# model better.\n",
        "from sklearn.metrics import classification_report\n",
        "import numpy as np\n",
        "\n",
        "# Convert one-hot to index\n",
        "y_type_val = np.argmax(type_vec_val, axis=1)\n",
        "y_pred = model.predict(x={'input_ids': encoded_data_val['input_ids'], 'attention_mask': encoded_data_val['attention_mask']})\n",
        "y_type_pred = np.argmax(y_pred['type'],axis=1)\n",
        "print(classification_report(y_type_val, y_type_pred))"
      ],
      "execution_count": null,
      "outputs": [
        {
          "output_type": "stream",
          "text": [
            "              precision    recall  f1-score   support\n",
            "\n",
            "           0       0.50      0.50      0.50         2\n",
            "           1       0.40      0.50      0.44         4\n",
            "           2       1.00      0.25      0.40         4\n",
            "           3       0.45      0.45      0.45        11\n",
            "           4       0.67      1.00      0.80         2\n",
            "           5       0.50      0.60      0.55         5\n",
            "           6       0.75      0.33      0.46         9\n",
            "           7       1.00      1.00      1.00         4\n",
            "           8       0.25      0.40      0.31         5\n",
            "           9       0.96      1.00      0.98        44\n",
            "\n",
            "    accuracy                           0.74        90\n",
            "   macro avg       0.65      0.60      0.59        90\n",
            "weighted avg       0.77      0.74      0.74        90\n",
            "\n"
          ],
          "name": "stdout"
        }
      ]
    },
    {
      "cell_type": "code",
      "metadata": {
        "id": "70wzEezl6ndx"
      },
      "source": [
        "# only save when the current model is outperforming the previous one\r\n",
        "model.save_weights(\"ckpt\")"
      ],
      "execution_count": null,
      "outputs": []
    },
    {
      "cell_type": "code",
      "metadata": {
        "id": "sM5VheO2PkgM"
      },
      "source": [
        "# make it smaller by not compiling (loading weights only) and resaving as h5?\r\n",
        "# FIRST RECREATE MODEL FROM SCRATCH without compilation above\r\n",
        "model.load_weights(\"ckpt\")\r\n",
        "model.save(home_folder / 'usecase_indicator.h5')"
      ],
      "execution_count": null,
      "outputs": []
    },
    {
      "cell_type": "code",
      "metadata": {
        "id": "mm4B3MTRUjQU",
        "colab": {
          "base_uri": "https://localhost:8080/"
        },
        "outputId": "d24466d0-623d-4f32-80ae-b37bfd691bf5"
      },
      "source": [
        "from tensorflow import keras\n",
        "import tensorflow_addons as tfa\n",
        "import numpy as np\n",
        "from sklearn.metrics import classification_report\n",
        "\n",
        "model = keras.models.load_model(home_folder / 'usecase_indicator.h5')\n",
        "\n",
        "# Convert one-hot to index\n",
        "y_type_val = np.argmax(type_vec_val, axis=1)\n",
        "y_pred = model.predict(x={'input_ids': encoded_data_val['input_ids'], 'attention_mask': encoded_data_val['attention_mask']})\n",
        "y_type_pred = np.argmax(y_pred['type'],axis=1)\n",
        "print(classification_report(y_type_val, y_type_pred, target_names = [value for value in d.values()]))"
      ],
      "execution_count": null,
      "outputs": [
        {
          "output_type": "stream",
          "text": [
            "WARNING:tensorflow:No training configuration found in the save file, so the model was *not* compiled. Compile it manually.\n",
            "WARNING:tensorflow:5 out of the last 13 calls to <function Model.make_predict_function.<locals>.predict_function at 0x7f33330462f0> triggered tf.function retracing. Tracing is expensive and the excessive number of tracings could be due to (1) creating @tf.function repeatedly in a loop, (2) passing tensors with different shapes, (3) passing Python objects instead of tensors. For (1), please define your @tf.function outside of the loop. For (2), @tf.function has experimental_relax_shapes=True option that relaxes argument shapes that can avoid unnecessary retracing. For (3), please refer to https://www.tensorflow.org/guide/function#controlling_retracing and https://www.tensorflow.org/api_docs/python/tf/function for  more details.\n",
            "                                               precision    recall  f1-score   support\n",
            "\n",
            "                Discover new trends/anomalies       0.00      0.00      0.00         2\n",
            "                                  Forecasting       0.00      0.00      0.00         4\n",
            "Operations/logistics optimisation (real time)       0.00      0.00      0.00         4\n",
            "                         Predictive analytics       0.23      0.82      0.35        11\n",
            "                       Predictive maintenance       0.00      0.00      0.00         2\n",
            "               Price and product optimisation       0.00      0.00      0.00         5\n",
            "                    Process unstructured data       0.00      0.00      0.00         9\n",
            "                      Radical personalisation       0.00      0.00      0.00         4\n",
            "                          Resource allocation       0.00      0.00      0.00         5\n",
            "                                  no use case       0.92      1.00      0.96        44\n",
            "\n",
            "                                     accuracy                           0.59        90\n",
            "                                    macro avg       0.11      0.18      0.13        90\n",
            "                                 weighted avg       0.48      0.59      0.51        90\n",
            "\n"
          ],
          "name": "stdout"
        },
        {
          "output_type": "stream",
          "text": [
            "/usr/local/lib/python3.6/dist-packages/sklearn/metrics/_classification.py:1272: UndefinedMetricWarning: Precision and F-score are ill-defined and being set to 0.0 in labels with no predicted samples. Use `zero_division` parameter to control this behavior.\n",
            "  _warn_prf(average, modifier, msg_start, len(result))\n"
          ],
          "name": "stderr"
        }
      ]
    },
    {
      "cell_type": "code",
      "metadata": {
        "id": "GWQ5ue4-idX5"
      },
      "source": [
        ""
      ],
      "execution_count": null,
      "outputs": []
    }
  ]
}