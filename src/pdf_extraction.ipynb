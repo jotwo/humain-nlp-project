{
 "cells": [
  {
   "cell_type": "code",
   "execution_count": 1,
   "metadata": {},
   "outputs": [],
   "source": [
    "from preprocessing import PDFCorpusPreprocessor\n",
    "\n",
    "pdf_preprocessor = PDFCorpusPreprocessor()\n",
    "\n",
    "pdf_preprocessor.extract_corpus_from_pdf()\n",
    "dtm = pdf_preprocessor.build_document_term_matrix()"
   ]
  },
  {
   "cell_type": "code",
   "execution_count": 2,
   "metadata": {},
   "outputs": [],
   "source": [
    "pdf_preprocessor.extract_corpus_from_pdf()\n",
    "dtm = pdf_preprocessor.build_document_term_matrix()"
   ]
  },
  {
   "cell_type": "code",
   "execution_count": 3,
   "metadata": {},
   "outputs": [
    {
     "output_type": "execute_result",
     "data": {
      "text/plain": [
       "                                                 ab  abandoned  abbosh  \\\n",
       "2ebecff42b51c35722f585eb2df47ae68728              0          0       0   \n",
       "The Big Book of Data Science Use Cases            0          1       0   \n",
       "Global-survey-The-state-of-AI-in-2020             0          0       0   \n",
       "aiadoptionstrategies-march2019pdf                 0          0       1   \n",
       "MGI-The-Age-of-Analytics-Full-report              1          0       0   \n",
       "main                                              0          0       0   \n",
       "Using big data to make better pricing decisions   0          0       0   \n",
       "\n",
       "                                                 abbreviated  abdallah  abdul  \\\n",
       "2ebecff42b51c35722f585eb2df47ae68728                       0         0      0   \n",
       "The Big Book of Data Science Use Cases                     2         0      0   \n",
       "Global-survey-The-state-of-AI-in-2020                      0         0      0   \n",
       "aiadoptionstrategies-march2019pdf                          0         0      0   \n",
       "MGI-The-Age-of-Analytics-Full-report                       0         0      1   \n",
       "main                                                       0         1      0   \n",
       "Using big data to make better pricing decisions            0         0      0   \n",
       "\n",
       "                                                 abhishek  abilities  ability  \\\n",
       "2ebecff42b51c35722f585eb2df47ae68728                    0          0       16   \n",
       "The Big Book of Data Science Use Cases                  0          0        6   \n",
       "Global-survey-The-state-of-AI-in-2020                   0          0        2   \n",
       "aiadoptionstrategies-march2019pdf                       1          0        0   \n",
       "MGI-The-Age-of-Analytics-Full-report                    0          1       16   \n",
       "main                                                    0          1        0   \n",
       "Using big data to make better pricing decisions         0          0        0   \n",
       "\n",
       "                                                 able  ...  ﬁnite  ﬁnitely  \\\n",
       "2ebecff42b51c35722f585eb2df47ae68728                9  ...     16        3   \n",
       "The Big Book of Data Science Use Cases             27  ...      0        0   \n",
       "Global-survey-The-state-of-AI-in-2020               1  ...      0        0   \n",
       "aiadoptionstrategies-march2019pdf                   2  ...      0        0   \n",
       "MGI-The-Age-of-Analytics-Full-report               26  ...      0        0   \n",
       "main                                                5  ...      0        0   \n",
       "Using big data to make better pricing decisions     3  ...      0        0   \n",
       "\n",
       "                                                 ﬁrm  ﬁrms  ﬁrst  ﬁxed  ﬁxing  \\\n",
       "2ebecff42b51c35722f585eb2df47ae68728               6     4    13    17      1   \n",
       "The Big Book of Data Science Use Cases             0     0     0     0      0   \n",
       "Global-survey-The-state-of-AI-in-2020              0     0     0     0      0   \n",
       "aiadoptionstrategies-march2019pdf                  0     0     0     0      0   \n",
       "MGI-The-Age-of-Analytics-Full-report               0     0     0     0      0   \n",
       "main                                               0     0     0     0      0   \n",
       "Using big data to make better pricing decisions    0     0     0     0      0   \n",
       "\n",
       "                                                 ﬂexibility  ﬂexible  ﬂy  \n",
       "2ebecff42b51c35722f585eb2df47ae68728                      3        1   2  \n",
       "The Big Book of Data Science Use Cases                    0        0   0  \n",
       "Global-survey-The-state-of-AI-in-2020                     0        0   0  \n",
       "aiadoptionstrategies-march2019pdf                         0        0   0  \n",
       "MGI-The-Age-of-Analytics-Full-report                      0        0   0  \n",
       "main                                                      0        0   0  \n",
       "Using big data to make better pricing decisions           0        0   0  \n",
       "\n",
       "[7 rows x 8127 columns]"
      ],
      "text/html": "<div>\n<style scoped>\n    .dataframe tbody tr th:only-of-type {\n        vertical-align: middle;\n    }\n\n    .dataframe tbody tr th {\n        vertical-align: top;\n    }\n\n    .dataframe thead th {\n        text-align: right;\n    }\n</style>\n<table border=\"1\" class=\"dataframe\">\n  <thead>\n    <tr style=\"text-align: right;\">\n      <th></th>\n      <th>ab</th>\n      <th>abandoned</th>\n      <th>abbosh</th>\n      <th>abbreviated</th>\n      <th>abdallah</th>\n      <th>abdul</th>\n      <th>abhishek</th>\n      <th>abilities</th>\n      <th>ability</th>\n      <th>able</th>\n      <th>...</th>\n      <th>ﬁnite</th>\n      <th>ﬁnitely</th>\n      <th>ﬁrm</th>\n      <th>ﬁrms</th>\n      <th>ﬁrst</th>\n      <th>ﬁxed</th>\n      <th>ﬁxing</th>\n      <th>ﬂexibility</th>\n      <th>ﬂexible</th>\n      <th>ﬂy</th>\n    </tr>\n  </thead>\n  <tbody>\n    <tr>\n      <th>2ebecff42b51c35722f585eb2df47ae68728</th>\n      <td>0</td>\n      <td>0</td>\n      <td>0</td>\n      <td>0</td>\n      <td>0</td>\n      <td>0</td>\n      <td>0</td>\n      <td>0</td>\n      <td>16</td>\n      <td>9</td>\n      <td>...</td>\n      <td>16</td>\n      <td>3</td>\n      <td>6</td>\n      <td>4</td>\n      <td>13</td>\n      <td>17</td>\n      <td>1</td>\n      <td>3</td>\n      <td>1</td>\n      <td>2</td>\n    </tr>\n    <tr>\n      <th>The Big Book of Data Science Use Cases</th>\n      <td>0</td>\n      <td>1</td>\n      <td>0</td>\n      <td>2</td>\n      <td>0</td>\n      <td>0</td>\n      <td>0</td>\n      <td>0</td>\n      <td>6</td>\n      <td>27</td>\n      <td>...</td>\n      <td>0</td>\n      <td>0</td>\n      <td>0</td>\n      <td>0</td>\n      <td>0</td>\n      <td>0</td>\n      <td>0</td>\n      <td>0</td>\n      <td>0</td>\n      <td>0</td>\n    </tr>\n    <tr>\n      <th>Global-survey-The-state-of-AI-in-2020</th>\n      <td>0</td>\n      <td>0</td>\n      <td>0</td>\n      <td>0</td>\n      <td>0</td>\n      <td>0</td>\n      <td>0</td>\n      <td>0</td>\n      <td>2</td>\n      <td>1</td>\n      <td>...</td>\n      <td>0</td>\n      <td>0</td>\n      <td>0</td>\n      <td>0</td>\n      <td>0</td>\n      <td>0</td>\n      <td>0</td>\n      <td>0</td>\n      <td>0</td>\n      <td>0</td>\n    </tr>\n    <tr>\n      <th>aiadoptionstrategies-march2019pdf</th>\n      <td>0</td>\n      <td>0</td>\n      <td>1</td>\n      <td>0</td>\n      <td>0</td>\n      <td>0</td>\n      <td>1</td>\n      <td>0</td>\n      <td>0</td>\n      <td>2</td>\n      <td>...</td>\n      <td>0</td>\n      <td>0</td>\n      <td>0</td>\n      <td>0</td>\n      <td>0</td>\n      <td>0</td>\n      <td>0</td>\n      <td>0</td>\n      <td>0</td>\n      <td>0</td>\n    </tr>\n    <tr>\n      <th>MGI-The-Age-of-Analytics-Full-report</th>\n      <td>1</td>\n      <td>0</td>\n      <td>0</td>\n      <td>0</td>\n      <td>0</td>\n      <td>1</td>\n      <td>0</td>\n      <td>1</td>\n      <td>16</td>\n      <td>26</td>\n      <td>...</td>\n      <td>0</td>\n      <td>0</td>\n      <td>0</td>\n      <td>0</td>\n      <td>0</td>\n      <td>0</td>\n      <td>0</td>\n      <td>0</td>\n      <td>0</td>\n      <td>0</td>\n    </tr>\n    <tr>\n      <th>main</th>\n      <td>0</td>\n      <td>0</td>\n      <td>0</td>\n      <td>0</td>\n      <td>1</td>\n      <td>0</td>\n      <td>0</td>\n      <td>1</td>\n      <td>0</td>\n      <td>5</td>\n      <td>...</td>\n      <td>0</td>\n      <td>0</td>\n      <td>0</td>\n      <td>0</td>\n      <td>0</td>\n      <td>0</td>\n      <td>0</td>\n      <td>0</td>\n      <td>0</td>\n      <td>0</td>\n    </tr>\n    <tr>\n      <th>Using big data to make better pricing decisions</th>\n      <td>0</td>\n      <td>0</td>\n      <td>0</td>\n      <td>0</td>\n      <td>0</td>\n      <td>0</td>\n      <td>0</td>\n      <td>0</td>\n      <td>0</td>\n      <td>3</td>\n      <td>...</td>\n      <td>0</td>\n      <td>0</td>\n      <td>0</td>\n      <td>0</td>\n      <td>0</td>\n      <td>0</td>\n      <td>0</td>\n      <td>0</td>\n      <td>0</td>\n      <td>0</td>\n    </tr>\n  </tbody>\n</table>\n<p>7 rows × 8127 columns</p>\n</div>"
     },
     "metadata": {},
     "execution_count": 3
    }
   ],
   "source": [
    "dtm"
   ]
  }
 ],
 "metadata": {
  "kernelspec": {
   "display_name": "humain",
   "language": "python",
   "name": "humain"
  },
  "language_info": {
   "codemirror_mode": {
    "name": "ipython",
    "version": 3
   },
   "file_extension": ".py",
   "mimetype": "text/x-python",
   "name": "python",
   "nbconvert_exporter": "python",
   "pygments_lexer": "ipython3",
   "version": "3.8.5-final"
  }
 },
 "nbformat": 4,
 "nbformat_minor": 4
}