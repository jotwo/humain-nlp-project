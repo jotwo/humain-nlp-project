{
 "metadata": {
  "language_info": {
   "codemirror_mode": {
    "name": "ipython",
    "version": 3
   },
   "file_extension": ".py",
   "mimetype": "text/x-python",
   "name": "python",
   "nbconvert_exporter": "python",
   "pygments_lexer": "ipython3",
   "version": "3.8.5-final"
  },
  "orig_nbformat": 2,
  "kernelspec": {
   "name": "humain",
   "display_name": "humain",
   "language": "python"
  }
 },
 "nbformat": 4,
 "nbformat_minor": 2,
 "cells": [
  {
   "cell_type": "code",
   "execution_count": 1,
   "metadata": {},
   "outputs": [],
   "source": [
    "from preprocessing import PDFCorpus\n",
    "\n",
    "pdf_corpus = PDFCorpus()"
   ]
  },
  {
   "cell_type": "code",
   "execution_count": 2,
   "metadata": {},
   "outputs": [
    {
     "output_type": "stream",
     "name": "stdout",
     "text": [
      "                                                content\n0     THE AGE OF ANALYTICS: \\nCOMPETING IN A  \\nDATA...\n1                                       DECEMBER 2016\\n\n2           IN COLLABORATION WITH\\nMCKINSEY ANALYTICS\\n\n3                                          HIGHLIGHTS\\n\n4                                                  34\\n\n...                                                 ...\n3023              Cover image: © Nadla/Getty Images. \\n\n3024  Cover insets (left to right): Businesswomen in...\n3025  Contents page images (top to bottom): Woman an...\n3026  McKinsey Global Institute\\nDecember 2016\\nCopy...\n3027         @McKinsey_MGI\\n  McKinseyGlobalInstitute\\n\n\n[3028 rows x 1 columns]\n                                   name\n0  MGI-The-Age-of-Analytics-Full-report\n"
     ]
    }
   ],
   "source": [
    "pdf_corpus.add_pdf('/home/jo/becode/projects/Project 7/humain-nlp-project/data/reports/MGI-The-Age-of-Analytics-Full-report.pdf')"
   ]
  }
 ]
}