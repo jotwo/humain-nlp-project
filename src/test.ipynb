{
 "metadata": {
  "language_info": {
   "codemirror_mode": {
    "name": "ipython",
    "version": 3
   },
   "file_extension": ".py",
   "mimetype": "text/x-python",
   "name": "python",
   "nbconvert_exporter": "python",
   "pygments_lexer": "ipython3",
   "version": "3.8.5-final"
  },
  "orig_nbformat": 2,
  "kernelspec": {
   "name": "humain",
   "display_name": "humain",
   "language": "python"
  }
 },
 "nbformat": 4,
 "nbformat_minor": 2,
 "cells": [
  {
   "cell_type": "code",
   "execution_count": 1,
   "metadata": {},
   "outputs": [
    {
     "output_type": "stream",
     "name": "stdout",
     "text": [
      "                                                content\n",
      "0     THE AGE OF ANALYTICS: \\nCOMPETING IN A  \\nDATA...\n",
      "1                                       DECEMBER 2016\\n\n",
      "2           IN COLLABORATION WITH\\nMCKINSEY ANALYTICS\\n\n",
      "3                                          HIGHLIGHTS\\n\n",
      "4                                                  34\\n\n",
      "...                                                 ...\n",
      "3023              Cover image: © Nadla/Getty Images. \\n\n",
      "3024  Cover insets (left to right): Businesswomen in...\n",
      "3025  Contents page images (top to bottom): Woman an...\n",
      "3026  McKinsey Global Institute\\nDecember 2016\\nCopy...\n",
      "3027         @McKinsey_MGI\\n  McKinseyGlobalInstitute\\n\n",
      "\n",
      "[3028 rows x 1 columns]\n",
      "             paragraph_id                                            content\n",
      "sentence_id                                                                 \n",
      "0                       0                           THE AGE OF ANALYTICS: \\n\n",
      "1                       0              COMPETING IN A  \\nDATA-DRIVEN WORLD\\n\n",
      "2                       1                                    DECEMBER 2016\\n\n",
      "3                       2        IN COLLABORATION WITH\\nMCKINSEY ANALYTICS\\n\n",
      "4                       3                                       HIGHLIGHTS\\n\n",
      "...                   ...                                                ...\n",
      "5238                 3026                        McKinsey Global Institute\\n\n",
      "5239                 3026                                    December 2016\\n\n",
      "5240                 3026  Copyright © McKinsey & Company \\nwww.mckinsey....\n",
      "5241                 3027                                  @McKinsey_MGI\\n  \n",
      "5242                 3027                          McKinseyGlobalInstitute\\n\n",
      "\n",
      "[5243 rows x 2 columns]\n",
      "          sentence_id                    token\n",
      "token_id                                      \n",
      "0                   0                      THE\n",
      "1                   0                      AGE\n",
      "2                   0                       OF\n",
      "3                   0                ANALYTICS\n",
      "4                   0                        :\n",
      "...               ...                      ...\n",
      "69915            5241                         \n",
      "69916            5241            @McKinsey_MGI\n",
      "69917            5241                     \\n  \n",
      "69918            5242  McKinseyGlobalInstitute\n",
      "69919            5242                       \\n\n",
      "\n",
      "[69920 rows x 2 columns]\n"
     ]
    }
   ],
   "source": [
    "from preprocessing import PDFCorpus\n",
    "\n",
    "pdf_corpus = PDFCorpus('../data/reports')"
   ]
  },
  {
   "cell_type": "code",
   "execution_count": null,
   "metadata": {},
   "outputs": [],
   "source": []
  }
 ]
}